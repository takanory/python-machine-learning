{
 "cells": [
  {
   "cell_type": "markdown",
   "metadata": {},
   "source": [
    "# 10 Minutes to pandas写経\n",
    "\n",
    "* https://pandas.pydata.org/pandas-docs/stable/10min.html をやってみる"
   ]
  },
  {
   "cell_type": "code",
   "execution_count": 1,
   "metadata": {
    "collapsed": true
   },
   "outputs": [],
   "source": [
    "# それぞれ必要なものを import するけど、こういう風に短く書くのがこっち界隈だと一般的らしい\n",
    "import pandas as pd\n",
    "import numpy as np\n",
    "import matplotlib.pyplot as plt"
   ]
  },
  {
   "cell_type": "markdown",
   "metadata": {},
   "source": [
    "## Object creation\n",
    "\n",
    "* [Intro to Data Structures — pandas 0.20.1 documentation](https://pandas.pydata.org/pandas-docs/stable/dsintro.html#dsintro \"Intro to Data Structures — pandas 0.20.1 documentation\")\n",
    "* Series と DataFrame を作る練習\n"
   ]
  },
  {
   "cell_type": "code",
   "execution_count": 2,
   "metadata": {},
   "outputs": [
    {
     "data": {
      "text/plain": [
       "0    1.0\n",
       "1    3.0\n",
       "2    5.0\n",
       "3    NaN\n",
       "4    6.0\n",
       "5    8.0\n",
       "dtype: float64"
      ]
     },
     "execution_count": 2,
     "metadata": {},
     "output_type": "execute_result"
    }
   ],
   "source": [
    "# Creating a Series by passing a list of values, letting pandas create a default integer index:\n",
    "# リストを指定してシリーズを作成すると、Pandasはデフォルトで数値のインデックスを生成する\n",
    "s = pd.Series([1,3,5,np.nan,6,8])\n",
    "s"
   ]
  },
  {
   "cell_type": "code",
   "execution_count": 4,
   "metadata": {},
   "outputs": [
    {
     "data": {
      "text/plain": [
       "DatetimeIndex(['2013-01-01', '2013-01-02', '2013-01-03', '2013-01-04',\n",
       "               '2013-01-05', '2013-01-06'],\n",
       "              dtype='datetime64[ns]', freq='D')"
      ]
     },
     "execution_count": 4,
     "metadata": {},
     "output_type": "execute_result"
    }
   ],
   "source": [
    "# まずは日付のインデックスを作成\n",
    "dates = pd.date_range('20130101', periods=6)\n",
    "dates"
   ]
  },
  {
   "cell_type": "code",
   "execution_count": 5,
   "metadata": {},
   "outputs": [
    {
     "data": {
      "text/html": [
       "<div>\n",
       "<style>\n",
       "    .dataframe thead tr:only-child th {\n",
       "        text-align: right;\n",
       "    }\n",
       "\n",
       "    .dataframe thead th {\n",
       "        text-align: left;\n",
       "    }\n",
       "\n",
       "    .dataframe tbody tr th {\n",
       "        vertical-align: top;\n",
       "    }\n",
       "</style>\n",
       "<table border=\"1\" class=\"dataframe\">\n",
       "  <thead>\n",
       "    <tr style=\"text-align: right;\">\n",
       "      <th></th>\n",
       "      <th>A</th>\n",
       "      <th>B</th>\n",
       "      <th>C</th>\n",
       "      <th>D</th>\n",
       "    </tr>\n",
       "  </thead>\n",
       "  <tbody>\n",
       "    <tr>\n",
       "      <th>2013-01-01</th>\n",
       "      <td>0.673802</td>\n",
       "      <td>0.117661</td>\n",
       "      <td>-0.268928</td>\n",
       "      <td>-0.476589</td>\n",
       "    </tr>\n",
       "    <tr>\n",
       "      <th>2013-01-02</th>\n",
       "      <td>-0.849277</td>\n",
       "      <td>1.254557</td>\n",
       "      <td>-0.788295</td>\n",
       "      <td>-0.930907</td>\n",
       "    </tr>\n",
       "    <tr>\n",
       "      <th>2013-01-03</th>\n",
       "      <td>-0.991429</td>\n",
       "      <td>0.252489</td>\n",
       "      <td>-1.636638</td>\n",
       "      <td>0.660141</td>\n",
       "    </tr>\n",
       "    <tr>\n",
       "      <th>2013-01-04</th>\n",
       "      <td>-0.311492</td>\n",
       "      <td>1.786762</td>\n",
       "      <td>-0.271916</td>\n",
       "      <td>-0.992705</td>\n",
       "    </tr>\n",
       "    <tr>\n",
       "      <th>2013-01-05</th>\n",
       "      <td>1.390071</td>\n",
       "      <td>-1.089386</td>\n",
       "      <td>2.138148</td>\n",
       "      <td>1.365089</td>\n",
       "    </tr>\n",
       "    <tr>\n",
       "      <th>2013-01-06</th>\n",
       "      <td>1.801544</td>\n",
       "      <td>0.727199</td>\n",
       "      <td>0.865138</td>\n",
       "      <td>-0.628641</td>\n",
       "    </tr>\n",
       "  </tbody>\n",
       "</table>\n",
       "</div>"
      ],
      "text/plain": [
       "                   A         B         C         D\n",
       "2013-01-01  0.673802  0.117661 -0.268928 -0.476589\n",
       "2013-01-02 -0.849277  1.254557 -0.788295 -0.930907\n",
       "2013-01-03 -0.991429  0.252489 -1.636638  0.660141\n",
       "2013-01-04 -0.311492  1.786762 -0.271916 -0.992705\n",
       "2013-01-05  1.390071 -1.089386  2.138148  1.365089\n",
       "2013-01-06  1.801544  0.727199  0.865138 -0.628641"
      ]
     },
     "execution_count": 5,
     "metadata": {},
     "output_type": "execute_result"
    }
   ],
   "source": [
    "# Creating a DataFrame by passing a numpy array, with a datetime index and labeled columns:\n",
    "# numpy arrayを渡してDataFrameを作成する時に、インデックスと列名を指定\n",
    "df = pd.DataFrame(np.random.randn(6,4), index=dates, columns=list('ABCD'))\n",
    "df"
   ]
  },
  {
   "cell_type": "code",
   "execution_count": 6,
   "metadata": {},
   "outputs": [
    {
     "data": {
      "text/html": [
       "<div>\n",
       "<style>\n",
       "    .dataframe thead tr:only-child th {\n",
       "        text-align: right;\n",
       "    }\n",
       "\n",
       "    .dataframe thead th {\n",
       "        text-align: left;\n",
       "    }\n",
       "\n",
       "    .dataframe tbody tr th {\n",
       "        vertical-align: top;\n",
       "    }\n",
       "</style>\n",
       "<table border=\"1\" class=\"dataframe\">\n",
       "  <thead>\n",
       "    <tr style=\"text-align: right;\">\n",
       "      <th></th>\n",
       "      <th>A</th>\n",
       "      <th>B</th>\n",
       "      <th>C</th>\n",
       "      <th>D</th>\n",
       "      <th>E</th>\n",
       "      <th>F</th>\n",
       "    </tr>\n",
       "  </thead>\n",
       "  <tbody>\n",
       "    <tr>\n",
       "      <th>0</th>\n",
       "      <td>1.0</td>\n",
       "      <td>2013-01-02</td>\n",
       "      <td>1.0</td>\n",
       "      <td>3</td>\n",
       "      <td>test</td>\n",
       "      <td>foo</td>\n",
       "    </tr>\n",
       "    <tr>\n",
       "      <th>1</th>\n",
       "      <td>1.0</td>\n",
       "      <td>2013-01-02</td>\n",
       "      <td>1.0</td>\n",
       "      <td>3</td>\n",
       "      <td>train</td>\n",
       "      <td>foo</td>\n",
       "    </tr>\n",
       "    <tr>\n",
       "      <th>2</th>\n",
       "      <td>1.0</td>\n",
       "      <td>2013-01-02</td>\n",
       "      <td>1.0</td>\n",
       "      <td>3</td>\n",
       "      <td>test</td>\n",
       "      <td>foo</td>\n",
       "    </tr>\n",
       "    <tr>\n",
       "      <th>3</th>\n",
       "      <td>1.0</td>\n",
       "      <td>2013-01-02</td>\n",
       "      <td>1.0</td>\n",
       "      <td>3</td>\n",
       "      <td>train</td>\n",
       "      <td>foo</td>\n",
       "    </tr>\n",
       "  </tbody>\n",
       "</table>\n",
       "</div>"
      ],
      "text/plain": [
       "     A          B    C  D      E    F\n",
       "0  1.0 2013-01-02  1.0  3   test  foo\n",
       "1  1.0 2013-01-02  1.0  3  train  foo\n",
       "2  1.0 2013-01-02  1.0  3   test  foo\n",
       "3  1.0 2013-01-02  1.0  3  train  foo"
      ]
     },
     "execution_count": 6,
     "metadata": {},
     "output_type": "execute_result"
    }
   ],
   "source": [
    "# Creating a DataFrame by passing a dict of objects that can be converted to series-like.\n",
    "# DataFrame作成時に辞書を渡すと、それぞれの辞書の値を Series のように扱う\n",
    "\n",
    "df2 = pd.DataFrame({ 'A' : 1.,\n",
    "                     'B' : pd.Timestamp('20130102'),\n",
    "                     'C' : pd.Series(1,index=list(range(4)),dtype='float32'),\n",
    "                     'D' : np.array([3] * 4,dtype='int32'),\n",
    "                     'E' : pd.Categorical([\"test\",\"train\",\"test\",\"train\"]),\n",
    "                     'F' : 'foo' })\n",
    "df2"
   ]
  },
  {
   "cell_type": "code",
   "execution_count": 7,
   "metadata": {},
   "outputs": [
    {
     "data": {
      "text/plain": [
       "A           float64\n",
       "B    datetime64[ns]\n",
       "C           float32\n",
       "D             int32\n",
       "E          category\n",
       "F            object\n",
       "dtype: object"
      ]
     },
     "execution_count": 7,
     "metadata": {},
     "output_type": "execute_result"
    }
   ],
   "source": [
    "# Having specific dtypes\n",
    "# それぞれ特定のデータ型(dtypes)を持つ\n",
    "\n",
    "df2.dtypes"
   ]
  },
  {
   "cell_type": "code",
   "execution_count": 11,
   "metadata": {},
   "outputs": [],
   "source": [
    "# If you’re using IPython, tab completion for column names (as well as public attributes) is automatically enabled.\n",
    "# Here’s a subset of the attributes that will be completed:\n",
    "# IPython使っていたら db2. で TAB を入力すると列名が自動的に補完対象になる\n",
    "# Jupyter notebok だと TAB を入力すると補完するための一覧がリストボックスで表示される"
   ]
  },
  {
   "cell_type": "markdown",
   "metadata": {},
   "source": [
    "## Viewing Data\n",
    "\n",
    "* [Essential Basic Functionality — pandas 0.20.1 documentation](https://pandas.pydata.org/pandas-docs/stable/basics.html#basics \"Essential Basic Functionality — pandas 0.20.1 documentation\")\n",
    "* データを参照する練習"
   ]
  },
  {
   "cell_type": "code",
   "execution_count": 15,
   "metadata": {},
   "outputs": [
    {
     "data": {
      "text/html": [
       "<div>\n",
       "<style>\n",
       "    .dataframe thead tr:only-child th {\n",
       "        text-align: right;\n",
       "    }\n",
       "\n",
       "    .dataframe thead th {\n",
       "        text-align: left;\n",
       "    }\n",
       "\n",
       "    .dataframe tbody tr th {\n",
       "        vertical-align: top;\n",
       "    }\n",
       "</style>\n",
       "<table border=\"1\" class=\"dataframe\">\n",
       "  <thead>\n",
       "    <tr style=\"text-align: right;\">\n",
       "      <th></th>\n",
       "      <th>A</th>\n",
       "      <th>B</th>\n",
       "      <th>C</th>\n",
       "      <th>D</th>\n",
       "    </tr>\n",
       "  </thead>\n",
       "  <tbody>\n",
       "    <tr>\n",
       "      <th>2013-01-01</th>\n",
       "      <td>0.673802</td>\n",
       "      <td>0.117661</td>\n",
       "      <td>-0.268928</td>\n",
       "      <td>-0.476589</td>\n",
       "    </tr>\n",
       "    <tr>\n",
       "      <th>2013-01-02</th>\n",
       "      <td>-0.849277</td>\n",
       "      <td>1.254557</td>\n",
       "      <td>-0.788295</td>\n",
       "      <td>-0.930907</td>\n",
       "    </tr>\n",
       "    <tr>\n",
       "      <th>2013-01-03</th>\n",
       "      <td>-0.991429</td>\n",
       "      <td>0.252489</td>\n",
       "      <td>-1.636638</td>\n",
       "      <td>0.660141</td>\n",
       "    </tr>\n",
       "    <tr>\n",
       "      <th>2013-01-04</th>\n",
       "      <td>-0.311492</td>\n",
       "      <td>1.786762</td>\n",
       "      <td>-0.271916</td>\n",
       "      <td>-0.992705</td>\n",
       "    </tr>\n",
       "    <tr>\n",
       "      <th>2013-01-05</th>\n",
       "      <td>1.390071</td>\n",
       "      <td>-1.089386</td>\n",
       "      <td>2.138148</td>\n",
       "      <td>1.365089</td>\n",
       "    </tr>\n",
       "  </tbody>\n",
       "</table>\n",
       "</div>"
      ],
      "text/plain": [
       "                   A         B         C         D\n",
       "2013-01-01  0.673802  0.117661 -0.268928 -0.476589\n",
       "2013-01-02 -0.849277  1.254557 -0.788295 -0.930907\n",
       "2013-01-03 -0.991429  0.252489 -1.636638  0.660141\n",
       "2013-01-04 -0.311492  1.786762 -0.271916 -0.992705\n",
       "2013-01-05  1.390071 -1.089386  2.138148  1.365089"
      ]
     },
     "execution_count": 15,
     "metadata": {},
     "output_type": "execute_result"
    }
   ],
   "source": [
    "# See the top & bottom rows of the frame\n",
    "# DataFrame の先頭と最後の行を参照する\n",
    "df.head()"
   ]
  },
  {
   "cell_type": "code",
   "execution_count": 14,
   "metadata": {},
   "outputs": [
    {
     "data": {
      "text/html": [
       "<div>\n",
       "<style>\n",
       "    .dataframe thead tr:only-child th {\n",
       "        text-align: right;\n",
       "    }\n",
       "\n",
       "    .dataframe thead th {\n",
       "        text-align: left;\n",
       "    }\n",
       "\n",
       "    .dataframe tbody tr th {\n",
       "        vertical-align: top;\n",
       "    }\n",
       "</style>\n",
       "<table border=\"1\" class=\"dataframe\">\n",
       "  <thead>\n",
       "    <tr style=\"text-align: right;\">\n",
       "      <th></th>\n",
       "      <th>A</th>\n",
       "      <th>B</th>\n",
       "      <th>C</th>\n",
       "      <th>D</th>\n",
       "    </tr>\n",
       "  </thead>\n",
       "  <tbody>\n",
       "    <tr>\n",
       "      <th>2013-01-04</th>\n",
       "      <td>-0.311492</td>\n",
       "      <td>1.786762</td>\n",
       "      <td>-0.271916</td>\n",
       "      <td>-0.992705</td>\n",
       "    </tr>\n",
       "    <tr>\n",
       "      <th>2013-01-05</th>\n",
       "      <td>1.390071</td>\n",
       "      <td>-1.089386</td>\n",
       "      <td>2.138148</td>\n",
       "      <td>1.365089</td>\n",
       "    </tr>\n",
       "    <tr>\n",
       "      <th>2013-01-06</th>\n",
       "      <td>1.801544</td>\n",
       "      <td>0.727199</td>\n",
       "      <td>0.865138</td>\n",
       "      <td>-0.628641</td>\n",
       "    </tr>\n",
       "  </tbody>\n",
       "</table>\n",
       "</div>"
      ],
      "text/plain": [
       "                   A         B         C         D\n",
       "2013-01-04 -0.311492  1.786762 -0.271916 -0.992705\n",
       "2013-01-05  1.390071 -1.089386  2.138148  1.365089\n",
       "2013-01-06  1.801544  0.727199  0.865138 -0.628641"
      ]
     },
     "execution_count": 14,
     "metadata": {},
     "output_type": "execute_result"
    }
   ],
   "source": [
    "df.tail(3)"
   ]
  },
  {
   "cell_type": "code",
   "execution_count": 20,
   "metadata": {},
   "outputs": [
    {
     "name": "stdout",
     "output_type": "stream",
     "text": [
      "DatetimeIndex(['2013-01-01', '2013-01-02', '2013-01-03', '2013-01-04',\n",
      "               '2013-01-05', '2013-01-06'],\n",
      "              dtype='datetime64[ns]', freq='D')\n",
      "Index(['A', 'B', 'C', 'D'], dtype='object')\n",
      "[[ 0.67380202  0.1176613  -0.26892769 -0.47658929]\n",
      " [-0.8492771   1.25455745 -0.78829475 -0.93090736]\n",
      " [-0.99142854  0.2524888  -1.63663823  0.66014099]\n",
      " [-0.31149185  1.78676205 -0.27191572 -0.99270547]\n",
      " [ 1.39007055 -1.08938607  2.13814835  1.36508903]\n",
      " [ 1.80154377  0.72719875  0.86513779 -0.62864099]]\n"
     ]
    }
   ],
   "source": [
    "# Display the index, columns, and the underlying numpy data\n",
    "# インデックス、列、値を参照する\n",
    "\n",
    "print(df.index)\n",
    "print(df.columns)\n",
    "print(df.values)"
   ]
  },
  {
   "cell_type": "code",
   "execution_count": 24,
   "metadata": {},
   "outputs": [
    {
     "data": {
      "text/html": [
       "<div>\n",
       "<style>\n",
       "    .dataframe thead tr:only-child th {\n",
       "        text-align: right;\n",
       "    }\n",
       "\n",
       "    .dataframe thead th {\n",
       "        text-align: left;\n",
       "    }\n",
       "\n",
       "    .dataframe tbody tr th {\n",
       "        vertical-align: top;\n",
       "    }\n",
       "</style>\n",
       "<table border=\"1\" class=\"dataframe\">\n",
       "  <thead>\n",
       "    <tr style=\"text-align: right;\">\n",
       "      <th></th>\n",
       "      <th>A</th>\n",
       "      <th>B</th>\n",
       "      <th>C</th>\n",
       "      <th>D</th>\n",
       "    </tr>\n",
       "  </thead>\n",
       "  <tbody>\n",
       "    <tr>\n",
       "      <th>count</th>\n",
       "      <td>6.000000</td>\n",
       "      <td>6.000000</td>\n",
       "      <td>6.000000</td>\n",
       "      <td>6.000000</td>\n",
       "    </tr>\n",
       "    <tr>\n",
       "      <th>mean</th>\n",
       "      <td>0.285536</td>\n",
       "      <td>0.508214</td>\n",
       "      <td>0.006252</td>\n",
       "      <td>-0.167269</td>\n",
       "    </tr>\n",
       "    <tr>\n",
       "      <th>std</th>\n",
       "      <td>1.178466</td>\n",
       "      <td>1.000992</td>\n",
       "      <td>1.324097</td>\n",
       "      <td>0.959767</td>\n",
       "    </tr>\n",
       "    <tr>\n",
       "      <th>min</th>\n",
       "      <td>-0.991429</td>\n",
       "      <td>-1.089386</td>\n",
       "      <td>-1.636638</td>\n",
       "      <td>-0.992705</td>\n",
       "    </tr>\n",
       "    <tr>\n",
       "      <th>25%</th>\n",
       "      <td>-0.714831</td>\n",
       "      <td>0.151368</td>\n",
       "      <td>-0.659200</td>\n",
       "      <td>-0.855341</td>\n",
       "    </tr>\n",
       "    <tr>\n",
       "      <th>50%</th>\n",
       "      <td>0.181155</td>\n",
       "      <td>0.489844</td>\n",
       "      <td>-0.270422</td>\n",
       "      <td>-0.552615</td>\n",
       "    </tr>\n",
       "    <tr>\n",
       "      <th>75%</th>\n",
       "      <td>1.211003</td>\n",
       "      <td>1.122718</td>\n",
       "      <td>0.581621</td>\n",
       "      <td>0.375958</td>\n",
       "    </tr>\n",
       "    <tr>\n",
       "      <th>max</th>\n",
       "      <td>1.801544</td>\n",
       "      <td>1.786762</td>\n",
       "      <td>2.138148</td>\n",
       "      <td>1.365089</td>\n",
       "    </tr>\n",
       "  </tbody>\n",
       "</table>\n",
       "</div>"
      ],
      "text/plain": [
       "              A         B         C         D\n",
       "count  6.000000  6.000000  6.000000  6.000000\n",
       "mean   0.285536  0.508214  0.006252 -0.167269\n",
       "std    1.178466  1.000992  1.324097  0.959767\n",
       "min   -0.991429 -1.089386 -1.636638 -0.992705\n",
       "25%   -0.714831  0.151368 -0.659200 -0.855341\n",
       "50%    0.181155  0.489844 -0.270422 -0.552615\n",
       "75%    1.211003  1.122718  0.581621  0.375958\n",
       "max    1.801544  1.786762  2.138148  1.365089"
      ]
     },
     "execution_count": 24,
     "metadata": {},
     "output_type": "execute_result"
    }
   ],
   "source": [
    "# Describe shows a quick statistic summary of your data\n",
    "# データの特徴(平均、中央値、最大、最小など)を表示する\n",
    "\n",
    "df.describe()"
   ]
  },
  {
   "cell_type": "code",
   "execution_count": 25,
   "metadata": {},
   "outputs": [
    {
     "data": {
      "text/html": [
       "<div>\n",
       "<style>\n",
       "    .dataframe thead tr:only-child th {\n",
       "        text-align: right;\n",
       "    }\n",
       "\n",
       "    .dataframe thead th {\n",
       "        text-align: left;\n",
       "    }\n",
       "\n",
       "    .dataframe tbody tr th {\n",
       "        vertical-align: top;\n",
       "    }\n",
       "</style>\n",
       "<table border=\"1\" class=\"dataframe\">\n",
       "  <thead>\n",
       "    <tr style=\"text-align: right;\">\n",
       "      <th></th>\n",
       "      <th>2013-01-01 00:00:00</th>\n",
       "      <th>2013-01-02 00:00:00</th>\n",
       "      <th>2013-01-03 00:00:00</th>\n",
       "      <th>2013-01-04 00:00:00</th>\n",
       "      <th>2013-01-05 00:00:00</th>\n",
       "      <th>2013-01-06 00:00:00</th>\n",
       "    </tr>\n",
       "  </thead>\n",
       "  <tbody>\n",
       "    <tr>\n",
       "      <th>A</th>\n",
       "      <td>0.673802</td>\n",
       "      <td>-0.849277</td>\n",
       "      <td>-0.991429</td>\n",
       "      <td>-0.311492</td>\n",
       "      <td>1.390071</td>\n",
       "      <td>1.801544</td>\n",
       "    </tr>\n",
       "    <tr>\n",
       "      <th>B</th>\n",
       "      <td>0.117661</td>\n",
       "      <td>1.254557</td>\n",
       "      <td>0.252489</td>\n",
       "      <td>1.786762</td>\n",
       "      <td>-1.089386</td>\n",
       "      <td>0.727199</td>\n",
       "    </tr>\n",
       "    <tr>\n",
       "      <th>C</th>\n",
       "      <td>-0.268928</td>\n",
       "      <td>-0.788295</td>\n",
       "      <td>-1.636638</td>\n",
       "      <td>-0.271916</td>\n",
       "      <td>2.138148</td>\n",
       "      <td>0.865138</td>\n",
       "    </tr>\n",
       "    <tr>\n",
       "      <th>D</th>\n",
       "      <td>-0.476589</td>\n",
       "      <td>-0.930907</td>\n",
       "      <td>0.660141</td>\n",
       "      <td>-0.992705</td>\n",
       "      <td>1.365089</td>\n",
       "      <td>-0.628641</td>\n",
       "    </tr>\n",
       "  </tbody>\n",
       "</table>\n",
       "</div>"
      ],
      "text/plain": [
       "   2013-01-01  2013-01-02  2013-01-03  2013-01-04  2013-01-05  2013-01-06\n",
       "A    0.673802   -0.849277   -0.991429   -0.311492    1.390071    1.801544\n",
       "B    0.117661    1.254557    0.252489    1.786762   -1.089386    0.727199\n",
       "C   -0.268928   -0.788295   -1.636638   -0.271916    2.138148    0.865138\n",
       "D   -0.476589   -0.930907    0.660141   -0.992705    1.365089   -0.628641"
      ]
     },
     "execution_count": 25,
     "metadata": {},
     "output_type": "execute_result"
    }
   ],
   "source": [
    "# Transposing your data\n",
    "# データを転置する(インデックスと列を入れ替える)\n",
    "\n",
    "df.T"
   ]
  },
  {
   "cell_type": "code",
   "execution_count": 27,
   "metadata": {},
   "outputs": [
    {
     "data": {
      "text/html": [
       "<div>\n",
       "<style>\n",
       "    .dataframe thead tr:only-child th {\n",
       "        text-align: right;\n",
       "    }\n",
       "\n",
       "    .dataframe thead th {\n",
       "        text-align: left;\n",
       "    }\n",
       "\n",
       "    .dataframe tbody tr th {\n",
       "        vertical-align: top;\n",
       "    }\n",
       "</style>\n",
       "<table border=\"1\" class=\"dataframe\">\n",
       "  <thead>\n",
       "    <tr style=\"text-align: right;\">\n",
       "      <th></th>\n",
       "      <th>A</th>\n",
       "      <th>B</th>\n",
       "      <th>C</th>\n",
       "      <th>D</th>\n",
       "    </tr>\n",
       "  </thead>\n",
       "  <tbody>\n",
       "    <tr>\n",
       "      <th>2013-01-01</th>\n",
       "      <td>0.673802</td>\n",
       "      <td>0.117661</td>\n",
       "      <td>-0.268928</td>\n",
       "      <td>-0.476589</td>\n",
       "    </tr>\n",
       "    <tr>\n",
       "      <th>2013-01-02</th>\n",
       "      <td>-0.849277</td>\n",
       "      <td>1.254557</td>\n",
       "      <td>-0.788295</td>\n",
       "      <td>-0.930907</td>\n",
       "    </tr>\n",
       "    <tr>\n",
       "      <th>2013-01-03</th>\n",
       "      <td>-0.991429</td>\n",
       "      <td>0.252489</td>\n",
       "      <td>-1.636638</td>\n",
       "      <td>0.660141</td>\n",
       "    </tr>\n",
       "    <tr>\n",
       "      <th>2013-01-04</th>\n",
       "      <td>-0.311492</td>\n",
       "      <td>1.786762</td>\n",
       "      <td>-0.271916</td>\n",
       "      <td>-0.992705</td>\n",
       "    </tr>\n",
       "    <tr>\n",
       "      <th>2013-01-05</th>\n",
       "      <td>1.390071</td>\n",
       "      <td>-1.089386</td>\n",
       "      <td>2.138148</td>\n",
       "      <td>1.365089</td>\n",
       "    </tr>\n",
       "    <tr>\n",
       "      <th>2013-01-06</th>\n",
       "      <td>1.801544</td>\n",
       "      <td>0.727199</td>\n",
       "      <td>0.865138</td>\n",
       "      <td>-0.628641</td>\n",
       "    </tr>\n",
       "  </tbody>\n",
       "</table>\n",
       "</div>"
      ],
      "text/plain": [
       "                   A         B         C         D\n",
       "2013-01-01  0.673802  0.117661 -0.268928 -0.476589\n",
       "2013-01-02 -0.849277  1.254557 -0.788295 -0.930907\n",
       "2013-01-03 -0.991429  0.252489 -1.636638  0.660141\n",
       "2013-01-04 -0.311492  1.786762 -0.271916 -0.992705\n",
       "2013-01-05  1.390071 -1.089386  2.138148  1.365089\n",
       "2013-01-06  1.801544  0.727199  0.865138 -0.628641"
      ]
     },
     "execution_count": 27,
     "metadata": {},
     "output_type": "execute_result"
    }
   ],
   "source": [
    "# Sorting by an axis\n",
    "# インデックスでソートする(axis=1なので横方向)\n",
    "\n",
    "df.sort_index(axis=1, ascending=False)"
   ]
  },
  {
   "cell_type": "code",
   "execution_count": 28,
   "metadata": {},
   "outputs": [
    {
     "data": {
      "text/html": [
       "<div>\n",
       "<style>\n",
       "    .dataframe thead tr:only-child th {\n",
       "        text-align: right;\n",
       "    }\n",
       "\n",
       "    .dataframe thead th {\n",
       "        text-align: left;\n",
       "    }\n",
       "\n",
       "    .dataframe tbody tr th {\n",
       "        vertical-align: top;\n",
       "    }\n",
       "</style>\n",
       "<table border=\"1\" class=\"dataframe\">\n",
       "  <thead>\n",
       "    <tr style=\"text-align: right;\">\n",
       "      <th></th>\n",
       "      <th>A</th>\n",
       "      <th>B</th>\n",
       "      <th>C</th>\n",
       "      <th>D</th>\n",
       "    </tr>\n",
       "  </thead>\n",
       "  <tbody>\n",
       "    <tr>\n",
       "      <th>2013-01-05</th>\n",
       "      <td>1.390071</td>\n",
       "      <td>-1.089386</td>\n",
       "      <td>2.138148</td>\n",
       "      <td>1.365089</td>\n",
       "    </tr>\n",
       "    <tr>\n",
       "      <th>2013-01-01</th>\n",
       "      <td>0.673802</td>\n",
       "      <td>0.117661</td>\n",
       "      <td>-0.268928</td>\n",
       "      <td>-0.476589</td>\n",
       "    </tr>\n",
       "    <tr>\n",
       "      <th>2013-01-03</th>\n",
       "      <td>-0.991429</td>\n",
       "      <td>0.252489</td>\n",
       "      <td>-1.636638</td>\n",
       "      <td>0.660141</td>\n",
       "    </tr>\n",
       "    <tr>\n",
       "      <th>2013-01-06</th>\n",
       "      <td>1.801544</td>\n",
       "      <td>0.727199</td>\n",
       "      <td>0.865138</td>\n",
       "      <td>-0.628641</td>\n",
       "    </tr>\n",
       "    <tr>\n",
       "      <th>2013-01-02</th>\n",
       "      <td>-0.849277</td>\n",
       "      <td>1.254557</td>\n",
       "      <td>-0.788295</td>\n",
       "      <td>-0.930907</td>\n",
       "    </tr>\n",
       "    <tr>\n",
       "      <th>2013-01-04</th>\n",
       "      <td>-0.311492</td>\n",
       "      <td>1.786762</td>\n",
       "      <td>-0.271916</td>\n",
       "      <td>-0.992705</td>\n",
       "    </tr>\n",
       "  </tbody>\n",
       "</table>\n",
       "</div>"
      ],
      "text/plain": [
       "                   A         B         C         D\n",
       "2013-01-05  1.390071 -1.089386  2.138148  1.365089\n",
       "2013-01-01  0.673802  0.117661 -0.268928 -0.476589\n",
       "2013-01-03 -0.991429  0.252489 -1.636638  0.660141\n",
       "2013-01-06  1.801544  0.727199  0.865138 -0.628641\n",
       "2013-01-02 -0.849277  1.254557 -0.788295 -0.930907\n",
       "2013-01-04 -0.311492  1.786762 -0.271916 -0.992705"
      ]
     },
     "execution_count": 28,
     "metadata": {},
     "output_type": "execute_result"
    }
   ],
   "source": [
    "# Sorting by values\n",
    "# 値でソートする(ここではB列を指定している)\n",
    "\n",
    "df.sort_values(by='B')"
   ]
  },
  {
   "cell_type": "code",
   "execution_count": null,
   "metadata": {
    "collapsed": true
   },
   "outputs": [],
   "source": []
  }
 ],
 "metadata": {
  "kernelspec": {
   "display_name": "Python 3",
   "language": "python",
   "name": "python3"
  },
  "language_info": {
   "codemirror_mode": {
    "name": "ipython",
    "version": 3
   },
   "file_extension": ".py",
   "mimetype": "text/x-python",
   "name": "python",
   "nbconvert_exporter": "python",
   "pygments_lexer": "ipython3",
   "version": "3.5.3"
  }
 },
 "nbformat": 4,
 "nbformat_minor": 2
}

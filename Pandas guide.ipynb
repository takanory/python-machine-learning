{
 "cells": [
  {
   "cell_type": "markdown",
   "metadata": {},
   "source": [
    "# Pandas 入門\n",
    "\n",
    "* [Pythonを使ったデータ解析入門 3idea | OpenBook](https://openbook4.me/projects/183 \"Pythonを使ったデータ解析入門 3idea | OpenBook\") を見ながら、Pandasの基本的な操作を写経してなれる\n",
    "\n",
    "## Pandas 基本操作\n",
    "\n",
    "* https://openbook4.me/projects/183/sections/777"
   ]
  },
  {
   "cell_type": "code",
   "execution_count": 3,
   "metadata": {
    "collapsed": true
   },
   "outputs": [],
   "source": [
    "# numpy と pandas を import する。np, pd と書くのは慣習っぽい\n",
    "import numpy as np\n",
    "import pandas as pd"
   ]
  },
  {
   "cell_type": "code",
   "execution_count": 13,
   "metadata": {
    "collapsed": false
   },
   "outputs": [
    {
     "name": "stdout",
     "output_type": "stream",
     "text": [
      "0    1\n",
      "1    2\n",
      "2    4\n",
      "dtype: int64\n",
      "a    1\n",
      "b    2\n",
      "c    4\n",
      "dtype: int64\n",
      "Index(['a', 'b', 'c'], dtype='object')\n"
     ]
    }
   ],
   "source": [
    "# Series\n",
    "# 軸にラベルを付けた1次元の配列\n",
    "print(pd.Series([1,2,4]))\n",
    "# 値とインデックスを設定\n",
    "s = pd.Series([1,2,4], index=['a','b','c'])\n",
    "print(s)\n",
    "print(s.index)"
   ]
  },
  {
   "cell_type": "code",
   "execution_count": 14,
   "metadata": {
    "collapsed": false
   },
   "outputs": [
    {
     "name": "stdout",
     "output_type": "stream",
     "text": [
      "最大値: 4\n",
      "最小値: 1\n",
      "平均値: 2.33333333333\n",
      "中央値: 2.0\n",
      "分散: 2.33333333333\n",
      "合計値: 7\n"
     ]
    }
   ],
   "source": [
    "print('最大値:', s.max())\n",
    "print('最小値:', s.min())\n",
    "print('平均値:', s.mean())\n",
    "print('中央値:', s.median())\n",
    "print('分散:', s.var()) # variance\n",
    "print('合計値:', s.sum())"
   ]
  },
  {
   "cell_type": "code",
   "execution_count": 20,
   "metadata": {
    "collapsed": false
   },
   "outputs": [
    {
     "name": "stdout",
     "output_type": "stream",
     "text": [
      "剰余:\n",
      "a    1\n",
      "b    0\n",
      "c    0\n",
      "dtype: int64\n",
      "\n",
      "累積:\n",
      "a    1\n",
      "b    3\n",
      "c    7\n",
      "dtype: int64\n",
      "\n",
      "関数を適用:\n",
      "a     3\n",
      "b     6\n",
      "c    12\n",
      "dtype: int64\n",
      "\n",
      "値を変換:\n",
      "a     10.0\n",
      "b    200.0\n",
      "c      NaN\n",
      "dtype: float64\n"
     ]
    }
   ],
   "source": [
    "print('剰余:')\n",
    "print(s.mod(2)) # modulo, 剰余\n",
    "\n",
    "print('\\n累積:')\n",
    "print(s.cumsum()) # cumulative, 累積\n",
    "\n",
    "print('\\n関数を適用:')\n",
    "print(s.apply(lambda x: x*3))   # 特定の関数を各値に対して適応\n",
    "\n",
    "print('\\n値を変換:')\n",
    "print(s.map({1: 10, 2: 200}))   # 引数で与えた値に対応する値を変換"
   ]
  },
  {
   "cell_type": "code",
   "execution_count": 23,
   "metadata": {
    "collapsed": false
   },
   "outputs": [
    {
     "name": "stdout",
     "output_type": "stream",
     "text": [
      "最大値のindex: c\n",
      "最小値のindex: a\n",
      "listに変換: [1, 2, 4]\n",
      "dictに変換: {'c': 4, 'b': 2, 'a': 1}\n",
      "jsonに変換: {\"a\":1,\"b\":2,\"c\":4}\n"
     ]
    }
   ],
   "source": [
    "print('最大値のindex:', s.argmax())\n",
    "print('最小値のindex:', s.argmin())\n",
    "print('listに変換:', s.tolist())\n",
    "print('dictに変換:', s.to_dict())\n",
    "print('jsonに変換:', s.to_json())"
   ]
  },
  {
   "cell_type": "code",
   "execution_count": null,
   "metadata": {
    "collapsed": true
   },
   "outputs": [],
   "source": []
  }
 ],
 "metadata": {
  "kernelspec": {
   "display_name": "Python 3",
   "language": "python",
   "name": "python3"
  },
  "language_info": {
   "codemirror_mode": {
    "name": "ipython",
    "version": 3
   },
   "file_extension": ".py",
   "mimetype": "text/x-python",
   "name": "python",
   "nbconvert_exporter": "python",
   "pygments_lexer": "ipython3",
   "version": "3.5.3"
  }
 },
 "nbformat": 4,
 "nbformat_minor": 2
}

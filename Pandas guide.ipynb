{
 "cells": [
  {
   "cell_type": "markdown",
   "metadata": {},
   "source": [
    "# Pandas 入門\n",
    "\n",
    "* [Pythonを使ったデータ解析入門 3idea | OpenBook](https://openbook4.me/projects/183 \"Pythonを使ったデータ解析入門 3idea | OpenBook\") を見ながら、Pandasの基本的な操作を写経してなれる\n",
    "\n",
    "## Pandas 基本操作\n",
    "\n",
    "* https://openbook4.me/projects/183/sections/777"
   ]
  },
  {
   "cell_type": "code",
   "execution_count": 2,
   "metadata": {
    "collapsed": true
   },
   "outputs": [],
   "source": [
    "# numpy と pandas を import する。np, pd と書くのは慣習っぽい\n",
    "import numpy as np\n",
    "import pandas as pd"
   ]
  },
  {
   "cell_type": "markdown",
   "metadata": {},
   "source": [
    "### Series\n",
    "* ドキュメント: http://pandas.pydata.org/pandas-docs/stable/generated/pandas.Series.html\n",
    "* ソース: https://github.com/pandas-dev/pandas/blob/master/pandas/core/series.py"
   ]
  },
  {
   "cell_type": "code",
   "execution_count": 13,
   "metadata": {
    "collapsed": false
   },
   "outputs": [
    {
     "name": "stdout",
     "output_type": "stream",
     "text": [
      "0    1\n",
      "1    2\n",
      "2    4\n",
      "dtype: int64\n",
      "a    1\n",
      "b    2\n",
      "c    4\n",
      "dtype: int64\n",
      "Index(['a', 'b', 'c'], dtype='object')\n"
     ]
    }
   ],
   "source": [
    "# Series\n",
    "# 軸にラベルを付けた1次元の配列\n",
    "print(pd.Series([1,2,4]))\n",
    "# 値とインデックスを設定\n",
    "s = pd.Series([1,2,4], index=['a','b','c'])\n",
    "print(s)\n",
    "print(s.index)"
   ]
  },
  {
   "cell_type": "code",
   "execution_count": 14,
   "metadata": {
    "collapsed": false
   },
   "outputs": [
    {
     "name": "stdout",
     "output_type": "stream",
     "text": [
      "最大値: 4\n",
      "最小値: 1\n",
      "平均値: 2.33333333333\n",
      "中央値: 2.0\n",
      "分散: 2.33333333333\n",
      "合計値: 7\n"
     ]
    }
   ],
   "source": [
    "print('最大値:', s.max())\n",
    "print('最小値:', s.min())\n",
    "print('平均値:', s.mean())\n",
    "print('中央値:', s.median())\n",
    "print('分散:', s.var()) # variance\n",
    "print('合計値:', s.sum())"
   ]
  },
  {
   "cell_type": "code",
   "execution_count": 20,
   "metadata": {
    "collapsed": false
   },
   "outputs": [
    {
     "name": "stdout",
     "output_type": "stream",
     "text": [
      "剰余:\n",
      "a    1\n",
      "b    0\n",
      "c    0\n",
      "dtype: int64\n",
      "\n",
      "累積:\n",
      "a    1\n",
      "b    3\n",
      "c    7\n",
      "dtype: int64\n",
      "\n",
      "関数を適用:\n",
      "a     3\n",
      "b     6\n",
      "c    12\n",
      "dtype: int64\n",
      "\n",
      "値を変換:\n",
      "a     10.0\n",
      "b    200.0\n",
      "c      NaN\n",
      "dtype: float64\n"
     ]
    }
   ],
   "source": [
    "print('剰余:')\n",
    "print(s.mod(2)) # modulo, 剰余\n",
    "\n",
    "print('\\n累積:')\n",
    "print(s.cumsum()) # cumulative, 累積\n",
    "\n",
    "print('\\n関数を適用:')\n",
    "print(s.apply(lambda x: x*3))   # 特定の関数を各値に対して適応\n",
    "\n",
    "print('\\n値を変換:')\n",
    "print(s.map({1: 10, 2: 200}))   # 引数で与えた値に対応する値を変換"
   ]
  },
  {
   "cell_type": "code",
   "execution_count": 23,
   "metadata": {
    "collapsed": false
   },
   "outputs": [
    {
     "name": "stdout",
     "output_type": "stream",
     "text": [
      "最大値のindex: c\n",
      "最小値のindex: a\n",
      "listに変換: [1, 2, 4]\n",
      "dictに変換: {'c': 4, 'b': 2, 'a': 1}\n",
      "jsonに変換: {\"a\":1,\"b\":2,\"c\":4}\n"
     ]
    }
   ],
   "source": [
    "print('最大値のindex:', s.argmax())\n",
    "print('最小値のindex:', s.argmin())\n",
    "print('listに変換:', s.tolist())\n",
    "print('dictに変換:', s.to_dict())\n",
    "print('jsonに変換:', s.to_json())"
   ]
  },
  {
   "cell_type": "markdown",
   "metadata": {},
   "source": [
    "### DataFrame\n",
    "\n",
    "* ドキュメント: http://pandas.pydata.org/pandas-docs/stable/generated/pandas.DataFrame.html\n",
    "* ソース: https://github.com/pandas-dev/pandas/blob/master/pandas/core/frame.py"
   ]
  },
  {
   "cell_type": "code",
   "execution_count": 25,
   "metadata": {
    "collapsed": false
   },
   "outputs": [
    {
     "data": {
      "text/html": [
       "<div>\n",
       "<table border=\"1\" class=\"dataframe\">\n",
       "  <thead>\n",
       "    <tr style=\"text-align: right;\">\n",
       "      <th></th>\n",
       "      <th>a</th>\n",
       "      <th>b</th>\n",
       "      <th>c</th>\n",
       "    </tr>\n",
       "  </thead>\n",
       "  <tbody>\n",
       "    <tr>\n",
       "      <th>i1</th>\n",
       "      <td>1</td>\n",
       "      <td>4</td>\n",
       "      <td>7</td>\n",
       "    </tr>\n",
       "    <tr>\n",
       "      <th>i2</th>\n",
       "      <td>2</td>\n",
       "      <td>5</td>\n",
       "      <td>8</td>\n",
       "    </tr>\n",
       "    <tr>\n",
       "      <th>i3</th>\n",
       "      <td>3</td>\n",
       "      <td>6</td>\n",
       "      <td>9</td>\n",
       "    </tr>\n",
       "  </tbody>\n",
       "</table>\n",
       "</div>"
      ],
      "text/plain": [
       "    a  b  c\n",
       "i1  1  4  7\n",
       "i2  2  5  8\n",
       "i3  3  6  9"
      ]
     },
     "execution_count": 25,
     "metadata": {},
     "output_type": "execute_result"
    }
   ],
   "source": [
    "# DataFrameの作成\n",
    "df = pd.DataFrame([[1, 4, 7], [2, 5, 8], [3, 6, 9]],\n",
    "                   index = ['i1', 'i2', 'i3'],\n",
    "                   columns = list(\"abc\"))\n",
    "df"
   ]
  },
  {
   "cell_type": "code",
   "execution_count": 30,
   "metadata": {
    "collapsed": false
   },
   "outputs": [
    {
     "name": "stdout",
     "output_type": "stream",
     "text": [
      "i1行目のデータ:\n",
      "a    1\n",
      "b    4\n",
      "c    7\n",
      "Name: i1, dtype: int64\n",
      "\n",
      "1行目のデータ:\n",
      "a    2\n",
      "b    5\n",
      "c    8\n",
      "Name: i2, dtype: int64\n",
      "\n",
      "i1行目のa列のデータ:\n",
      "1\n",
      "\n",
      "a列のデータ:\n",
      "i1    1\n",
      "i2    2\n",
      "i3    3\n",
      "Name: a, dtype: int64\n",
      "    b  c\n",
      "i2  5  8\n",
      "i3  6  9\n",
      "    b  c\n",
      "i2  5  8\n",
      "i3  6  9\n"
     ]
    }
   ],
   "source": [
    "# 範囲を指定して取り出す\n",
    "\n",
    "# 指定した行の取り出し。index名かindex番号で与えられる\n",
    "print('i1行目のデータ:')\n",
    "print(df.ix['i1'])\n",
    "\n",
    "print('\\n1行目のデータ:')\n",
    "print(df.ix[1])\n",
    "\n",
    "print('\\ni1行目のa列のデータ:')\n",
    "print(df.ix['i1', 'a'])\n",
    "\n",
    "# : は全指定\n",
    "print('\\na列のデータ:')\n",
    "print(df.ix[:, 'a'])\n",
    "\n",
    "# 複数の指定も配列で可能。\n",
    "print(df.ix[[1, 2], ['b','c']])\n",
    "print(df.ix[[1, 2], [1, 2]])"
   ]
  },
  {
   "cell_type": "code",
   "execution_count": 32,
   "metadata": {
    "collapsed": false
   },
   "outputs": [
    {
     "name": "stdout",
     "output_type": "stream",
     "text": [
      "a列の全データ:\n",
      "i1    1\n",
      "i2    2\n",
      "i3    3\n",
      "Name: a, dtype: int64\n",
      "\n",
      "a列の全データをarrayで取得\n",
      "[1 2 3]\n",
      "\n",
      "a列とindex(i3)を指定して値を取得\n",
      "3\n"
     ]
    }
   ],
   "source": [
    "# 列の指定\n",
    "print('a列の全データ:')\n",
    "print(df['a'])\n",
    "\n",
    "print ('\\na列の全データをarrayで取得')\n",
    "print(df['a'].values)\n",
    "\n",
    "print ('\\na列とindex(i3)を指定して値を取得')\n",
    "print(df['a']['i3'])\n"
   ]
  },
  {
   "cell_type": "code",
   "execution_count": 39,
   "metadata": {
    "collapsed": false
   },
   "outputs": [
    {
     "name": "stdout",
     "output_type": "stream",
     "text": [
      "a    1\n",
      "b    4\n",
      "c    7\n",
      "Name: i1, dtype: int64\n",
      "4\n",
      "i1    1\n",
      "i2    2\n",
      "i3    3\n",
      "Name: a, dtype: int64\n"
     ]
    }
   ],
   "source": [
    "# iloc(integer-location) だと位置で指定できる\n",
    "print(df.iloc[0]) # 0行目\n",
    "print(df.iloc[0, 1]) # 0行目1列目\n",
    "print(df.iloc[:,0]) # 0列目"
   ]
  },
  {
   "cell_type": "code",
   "execution_count": 8,
   "metadata": {
    "collapsed": false
   },
   "outputs": [
    {
     "name": "stdout",
     "output_type": "stream",
     "text": [
      "   0  1  2\n",
      "0  1  0  2\n",
      "1  1  2  1\n",
      "2  0  0  2\n",
      "3  0  0  2\n",
      "4  2  0  2\n",
      "     0    1    2\n",
      "0  NaN  NaN  2.0\n",
      "1  NaN  2.0  NaN\n",
      "2  NaN  NaN  2.0\n",
      "3  NaN  NaN  2.0\n",
      "4  2.0  NaN  2.0\n",
      "     0   1    2\n",
      "0  1.0 NaN  NaN\n",
      "1  1.0 NaN  1.0\n",
      "2  NaN NaN  NaN\n",
      "3  NaN NaN  NaN\n",
      "4  NaN NaN  NaN\n",
      "   0  1  2\n",
      "0  1  0 -1\n",
      "1  1 -1  1\n",
      "2  0  0 -1\n",
      "3  0  0 -1\n",
      "4 -1  0 -1\n"
     ]
    }
   ],
   "source": [
    "# 条件を満たす要素に値を代入\n",
    "df = pd.DataFrame(np.random.randint(3, size=(5,3)))\n",
    "print(df)\n",
    "\n",
    "# 条件を満たす要素だけを抽出する\n",
    "print(df[df>1])\n",
    "print(df[df==1])\n",
    "\n",
    "# 条件を満たすものに値を代入\n",
    "df[df>1] = -1\n",
    "print(df)"
   ]
  },
  {
   "cell_type": "code",
   "execution_count": 15,
   "metadata": {
    "collapsed": false
   },
   "outputs": [
    {
     "name": "stdout",
     "output_type": "stream",
     "text": [
      "   0    1    2\n",
      "0  1  2.0  NaN\n",
      "1  3  NaN  4.0\n",
      "2  5  6.0  7.0\n",
      "   0    1    2\n",
      "2  5  6.0  7.0\n",
      "   0\n",
      "0  1\n",
      "1  3\n",
      "2  5\n",
      "   0    1    2\n",
      "0  1  2.0  NaN\n",
      "2  5  6.0  7.0\n"
     ]
    }
   ],
   "source": [
    "# NaN の削除(dropna)\n",
    "df = pd.DataFrame([[1, 2, None], [3, None, 4], [5, 6, 7]])\n",
    "print(df)\n",
    "# なんでintとfloatまざってるんだろう...\n",
    "print(df.dropna()) # NaN を含む行を削除\n",
    "print(df.dropna(axis=1)) # NaN を含む列を削除\n",
    "print(df.dropna(subset=[1])) # 特定の列を指定することも可能"
   ]
  },
  {
   "cell_type": "code",
   "execution_count": 18,
   "metadata": {
    "collapsed": false
   },
   "outputs": [
    {
     "name": "stdout",
     "output_type": "stream",
     "text": [
      "   0    1    2\n",
      "0  1  2.0  NaN\n",
      "1  3  NaN  4.0\n",
      "2  5  6.0  7.0\n",
      "   0    1    2\n",
      "0  1  2.0 -1.0\n",
      "1  3 -1.0  4.0\n",
      "2  5  6.0  7.0\n",
      "   0    1    2\n",
      "0  1  2.0  NaN\n",
      "1  3  2.0  4.0\n",
      "2  5  6.0  7.0\n",
      "   0    1    2\n",
      "0  1  2.0  4.0\n",
      "1  3  6.0  4.0\n",
      "2  5  6.0  7.0\n"
     ]
    }
   ],
   "source": [
    "# NaN を埋める(fillna)\n",
    "print(df)\n",
    "print(df.fillna(-1)) # 指定した値で埋める\n",
    "print(df.fillna(method='pad')) # 直前の値で埋める\n",
    "print(df.fillna(method='bfill')) # 直後の値で埋める"
   ]
  },
  {
   "cell_type": "code",
   "execution_count": 19,
   "metadata": {
    "collapsed": false
   },
   "outputs": [
    {
     "name": "stdout",
     "output_type": "stream",
     "text": [
      "   0    1    2\n",
      "0  1  2.0  NaN\n",
      "1  3  NaN  4.0\n",
      "2  5  6.0  7.0\n",
      "   0    1    2\n",
      "0  1  2.0  NaN\n",
      "1  3  4.0  4.0\n",
      "2  5  6.0  7.0\n"
     ]
    }
   ],
   "source": [
    "# misssing valueの前後の線形の値で埋める\n",
    "print(df)\n",
    "print(df.apply(pd.Series.interpolate))"
   ]
  },
  {
   "cell_type": "code",
   "execution_count": 32,
   "metadata": {
    "collapsed": false
   },
   "outputs": [
    {
     "name": "stdout",
     "output_type": "stream",
     "text": [
      "   0  1\n",
      "0  a  1\n",
      "1  a  1\n",
      "2  a  2\n",
      "3  b  3\n",
      "4  b  4\n",
      "0    False\n",
      "1     True\n",
      "2    False\n",
      "3    False\n",
      "4    False\n",
      "dtype: bool\n",
      "0    False\n",
      "1     True\n",
      "2     True\n",
      "3    False\n",
      "4     True\n",
      "dtype: bool\n",
      "0    False\n",
      "1     True\n",
      "2    False\n",
      "3    False\n",
      "4    False\n",
      "dtype: bool\n"
     ]
    }
   ],
   "source": [
    "# 重複した値の処理(dupulicated)\n",
    "df = pd.DataFrame([['a', 1], ['a', 1], ['a', 2], ['b', 3], ['b', 4]])\n",
    "print(df)\n",
    "\n",
    "print(df.duplicated()) # 重複しているデータを調べる\n",
    "print(df.duplicated(0)) # 0列の重複しているデータを調べる\n",
    "print(df.duplicated(1))"
   ]
  },
  {
   "cell_type": "code",
   "execution_count": 38,
   "metadata": {
    "collapsed": false
   },
   "outputs": [
    {
     "name": "stdout",
     "output_type": "stream",
     "text": [
      "   0  1\n",
      "0  a  1\n",
      "2  a  2\n",
      "3  b  3\n",
      "4  b  4\n",
      "   0  1\n",
      "0  a  1\n",
      "3  b  3\n",
      "   0  1\n",
      "2  a  2\n",
      "4  b  4\n"
     ]
    }
   ],
   "source": [
    "# 重複したデータの削除\n",
    "print(df.drop_duplicates())\n",
    "print(df.drop_duplicates(0)) # 0列目が重複しているデータの削除\n",
    "print(df.drop_duplicates(0, keep='last')) # 重複している時に一番最後のデータを残す"
   ]
  },
  {
   "cell_type": "code",
   "execution_count": null,
   "metadata": {
    "collapsed": true
   },
   "outputs": [],
   "source": []
  }
 ],
 "metadata": {
  "kernelspec": {
   "display_name": "Python 3",
   "language": "python",
   "name": "python3"
  },
  "language_info": {
   "codemirror_mode": {
    "name": "ipython",
    "version": 3
   },
   "file_extension": ".py",
   "mimetype": "text/x-python",
   "name": "python",
   "nbconvert_exporter": "python",
   "pygments_lexer": "ipython3",
   "version": "3.5.3"
  }
 },
 "nbformat": 4,
 "nbformat_minor": 2
}

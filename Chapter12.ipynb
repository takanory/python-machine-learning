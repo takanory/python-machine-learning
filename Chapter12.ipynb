{
 "cells": [
  {
   "cell_type": "markdown",
   "metadata": {},
   "source": [
    "# 第12章 ニューラルネットワーク - 画像認識トレーニング\n",
    "\n",
    "- https://github.com/rasbt/python-machine-learning-book/blob/master/code/ch12/ch12.ipynb\n",
    "- ディープラーニング(deep learning)\n",
    "- 人工ニューラルネットワーク(artificial neural network)\n",
    "\n",
    "- 多層ニューラルネットワークの概念を理解する\n",
    "- 画像を分類するためのニューラルネットワークをトレーニングする\n",
    "- ニューラルネットワークをトレーニグするための強力なバッグプロパゲーションアルゴリズムを実装する\n",
    "- ニューラルネットワークの実装をデバッグする\n",
    "\n",
    "## 12.1 人工ニューラルネットワークによる複雑な関数のモデリング\n",
    "\n",
    "- McCullochPittニューロンモデル\n",
    "- バックプロパゲーション(backpropagation)アルゴリズム\n",
    "- 特徴抽出器(feature detector)\n",
    "\n",
    "### 12.1.1 単層ニューラルネットワークのまとめ\n",
    "\n",
    "- ADALINE(ADAptive LInear NEuron)\n",
    "- 勾配降下法\n",
    "- エポック(データセットのトレーニング回数)\n",
    "- 誤差平方和(SSE)\n",
    "- コスト関数 J(w)\n",
    "- 学習率η\n",
    "- ニューロンの活性(activation)\n",
    "- しきい値関数(ヘビサイド関数)\n",
    "\n",
    "### 12.1.2 多層ニューラルネットワークアーキテクチャ\n",
    "\n",
    "- 多層フィードフォワードニューラルネットワーク(multi-layer feedforward neural network)\n",
    "- 多層パーセプトロン(Multi-Layer Parceptron: MLP)\n",
    "- 隠れ層(hidden layer)\n",
    "\n",
    "### 12.1.3 フォワードプロパゲーションによるニューラルネットワークの活性化\n",
    "\n",
    "- フォワードプロパゲーション(順伝搬法、forward propagation)\n",
    "\n",
    "1. 入力層を出発点として、トレーニングデータのパターンをネットワーク経由で順方向に伝搬させ、出力を生成する。\n",
    "2. ネットワークの出力に基づき、後ほど説明するコスト関数を使って誤差を計算する。この誤差を最小化することが目的となる。\n",
    "3. 誤差を逆方向に伝搬させることで、ネットワーク内の各重みに対する偏導関数を求め、モデルを更新する。\n",
    "\n",
    "## 12.2 手書きの数字を分類する\n",
    "\n",
    "- MNIST(Mixed National Istitute of Standards and Technology)データセット\n",
    "\n",
    "### 12.2.1 MNISTデータセットを取得する\n",
    "\n",
    "- http://yann.lecun.com/exdb/mnist/"
   ]
  },
  {
   "cell_type": "code",
   "execution_count": 17,
   "metadata": {
    "collapsed": true
   },
   "outputs": [],
   "source": [
    "import os\n",
    "import struct\n",
    "import numpy as np\n",
    "\n",
    "def load_mnist(path, kind='train'):\n",
    "    \"\"\"\n",
    "    MNISTデータをpathからロード\n",
    "    \"\"\"\n",
    "    # 引数に指定したパスを結合(ラベルや画像のパスを作成)\n",
    "    labels_path = os.path.join(path, '{}-labels-idx1-ubyte'.format(kind))\n",
    "    images_path = os.path.join(path, '{}-images-idx3-ubyte'.format(kind))\n",
    "    \n",
    "    # ファイルを読み込む\n",
    "    with open(labels_path, 'rb') as lbpath:\n",
    "        # バイナリを文字列に変換: npack関数の引数にフォーマット、8バイト分の\n",
    "        # バイナリデータを指定してマジックナンバー、アイテムの個数を読み込む\n",
    "        magic, n = struct.unpack('>II', lbpath.read(8))\n",
    "        # ファイルからラベルを読み込み配列を構築: fromfile関数の引数に\n",
    "        # ファイル、配列のデータ形式を指定\n",
    "        labels = np.fromfile(lbpath, dtype=np.uint8)\n",
    "        \n",
    "    with open(images_path, 'rb') as imgpath:\n",
    "        magic, num, rows, cols = struct.unpack(\">IIII\", imgpath.read(16))\n",
    "        # 画像ピクセル情報の配列のサイズを変更\n",
    "        # (行数: ラベルのサイズ、列数: 特徴量の個数\n",
    "        images = np.fromfile(imgpath, dtype=np.uint8).reshape(len(labels), 784)\n",
    "    return images, labels"
   ]
  },
  {
   "cell_type": "markdown",
   "metadata": {},
   "source": [
    "images\n",
    "\n",
    "- トレーニングデータセット: 60,000個\n",
    "- テストデータセット: 10,000個\n",
    "- 28x28 ピクセルの画像(784ピクセル)\n",
    "- 各ピクセルはグレースケールの輝度(明暗)\n",
    "\n",
    "labels\n",
    "\n",
    "- 目的変数は手書き数字のクラスラベル(0〜9の整数)"
   ]
  },
  {
   "cell_type": "code",
   "execution_count": 20,
   "metadata": {
    "collapsed": false
   },
   "outputs": [
    {
     "name": "stdout",
     "output_type": "stream",
     "text": [
      "Rows: 60000, columns: 784\n",
      "Rows: 10000, columns: 784\n"
     ]
    }
   ],
   "source": [
    "X_train, y_train = load_mnist('chapter12', kind='train')\n",
    "print('Rows: {:d}, columns: {}'.format(X_train.shape[0], X_train.shape[1]))\n",
    "\n",
    "X_test, y_test = load_mnist('chapter12', kind='t10k')\n",
    "print('Rows: {:d}, columns: {}'.format(X_test.shape[0], X_test.shape[1]))\n"
   ]
  },
  {
   "cell_type": "code",
   "execution_count": 28,
   "metadata": {
    "collapsed": false
   },
   "outputs": [
    {
     "data": {
      "image/png": "[encoded data removed]",
      "text/plain": [
       "<matplotlib.figure.Figure at 0x11129bba8>"
      ]
     },
     "metadata": {},
     "output_type": "display_data"
    }
   ],
   "source": [
    "# 0〜9の数字の例を可視化する\n",
    "\n",
    "import matplotlib.pyplot as plt\n",
    "# subplots で描画の設定: 引数で描画領域の行数 / 列数、x/y 実の統一を指定\n",
    "flg, ax = plt.subplots(nrows=2, ncols=5, sharex=True, sharey=True)\n",
    "# 配列を1次元に変換\n",
    "ax = ax.flatten()\n",
    "for i in range(10):\n",
    "    # 配列を 28x28 に変形\n",
    "    img = X_train[y_train == i][0].reshape(28, 28)\n",
    "    # 色や補完方法を指定\n",
    "    ax[i].imshow(img, cmap=\"Greys\", interpolation='nearest')\n",
    "\n",
    "ax[0].set_xticks([])\n",
    "ax[0].set_yticks([])\n",
    "plt.tight_layout()\n",
    "plt.show()"
   ]
  },
  {
   "cell_type": "code",
   "execution_count": 23,
   "metadata": {
    "collapsed": false
   },
   "outputs": [
    {
     "data": {
      "image/png": "[encoded data removed]",
      "text/plain": [
       "<matplotlib.figure.Figure at 0x10fab4940>"
      ]
     },
     "metadata": {},
     "output_type": "display_data"
    }
   ],
   "source": [
    "# 数字7のサンプルを25個ヒョ持する\n",
    "\n",
    "import matplotlib.pyplot as plt\n",
    "flg, ax = plt.subplots(nrows=5, ncols=5, sharex=True, sharey=True)\n",
    "# 配列を1次元に変換\n",
    "ax = ax.flatten()\n",
    "for i in range(len(ax)):\n",
    "    img = X_train[y_train == 7][i].reshape(28, 28)\n",
    "    ax[i].imshow(img, cmap=\"Greys\", interpolation='nearest')\n",
    "\n",
    "ax[0].set_xticks([])\n",
    "ax[0].set_yticks([])\n",
    "plt.tight_layout()\n",
    "plt.show()"
   ]
  },
  {
   "cell_type": "code",
   "execution_count": 29,
   "metadata": {
    "collapsed": false
   },
   "outputs": [],
   "source": [
    "# MNISTの画像データをCSVファイルとして保存する\n",
    "if False:\n",
    "    np.savetxt('train_img.csv', X_train, fmt='%i', delimiter=',')\n",
    "    np.savetxt('train_labels.csv', y_train, fmt='%i', delimiter=',')\n",
    "    np.savetxt('test_img.csv', X_test, fmt='%i', delimiter=',')\n",
    "    np.savetxt('test_labels.csv', y_test, fmt='%i', delimiter=',')\n",
    "\n",
    "# MNISTの画像データをCSVファイルから読み込む\n",
    "if False:\n",
    "    X_train = np.genfromtxt('train_img.csv', fmt='%i', delimiter=',')\n",
    "    y_train = np.savetxt('train_labels.csv', fmt='%i', delimiter=',')\n",
    "    X_test = np.savetxt('test_img.csv', fmt='%i', delimiter=',')\n",
    "    y_test = np.savetxt('test_labels.csv', fmt='%i', delimiter=',')"
   ]
  },
  {
   "cell_type": "code",
   "execution_count": null,
   "metadata": {
    "collapsed": true
   },
   "outputs": [],
   "source": []
  }
 ],
 "metadata": {
  "kernelspec": {
   "display_name": "Python 3",
   "language": "python",
   "name": "python3"
  },
  "language_info": {
   "codemirror_mode": {
    "name": "ipython",
    "version": 3
   },
   "file_extension": ".py",
   "mimetype": "text/x-python",
   "name": "python",
   "nbconvert_exporter": "python",
   "pygments_lexer": "ipython3",
   "version": "3.5.2"
  }
 },
 "nbformat": 4,
 "nbformat_minor": 1
}

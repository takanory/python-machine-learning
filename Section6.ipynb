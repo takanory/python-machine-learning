{
 "cells": [
  {
   "cell_type": "markdown",
   "metadata": {},
   "source": [
    "# 第6章 モデルの評価とハイパーパラメータのチューニングのベストプラクティス\n",
    "\n",
    "* https://github.com/rasbt/python-machine-learning-book/blob/master/code/ch06/ch06.ipynb\n",
    "* モデルの性能の偏りのない推定量の算出\n",
    "* 機械学習のアルゴリズムに共通する問題の診断\n",
    "* 機械学習のモデルのチューニング\n",
    "* さまざまな性能指標に基づく予測モデルの評価\n",
    "\n",
    "## 6.1 パイプラインによるワークフローの効率化\n",
    "\n",
    "### 6.1.1 Breast Cancer Wisconsin データセットを読み込む\n",
    "\n",
    "* 悪性腫瘍細胞と良性腫瘍細胞の569のサンプル\n",
    "* 最初の2つの列にはサンプルのIDと診断結果\n",
    "* 診断結果Mは悪性(malignant)、Bは良性(benign)\n",
    "* 3列目から32列目は細胞核のデジタル画像から算出された30個の実数値の特徴量"
   ]
  },
  {
   "cell_type": "code",
   "execution_count": 3,
   "metadata": {
    "collapsed": true
   },
   "outputs": [],
   "source": [
    "from IPython.core.display import display\n",
    "from distutils.version import LooseVersion as Version\n",
    "from sklearn import __version__ as sklearn_version"
   ]
  },
  {
   "cell_type": "code",
   "execution_count": 4,
   "metadata": {
    "collapsed": false
   },
   "outputs": [
    {
     "data": {
      "text/plain": [
       "(569, 32)"
      ]
     },
     "execution_count": 4,
     "metadata": {},
     "output_type": "execute_result"
    }
   ],
   "source": [
    "# データセットを読み込む\n",
    "import pandas as pd\n",
    "df = pd.read_csv('https://archive.ics.uci.edu/ml/machine-learning-databases/breast-cancer-wisconsin/wdbc.data', header=None)\n",
    "df.shape"
   ]
  },
  {
   "cell_type": "code",
   "execution_count": 5,
   "metadata": {
    "collapsed": false
   },
   "outputs": [
    {
     "data": {
      "text/html": [
       "<div>\n",
       "<table border=\"1\" class=\"dataframe\">\n",
       "  <thead>\n",
       "    <tr style=\"text-align: right;\">\n",
       "      <th></th>\n",
       "      <th>0</th>\n",
       "      <th>1</th>\n",
       "      <th>2</th>\n",
       "      <th>3</th>\n",
       "      <th>4</th>\n",
       "      <th>5</th>\n",
       "      <th>6</th>\n",
       "      <th>7</th>\n",
       "      <th>8</th>\n",
       "      <th>9</th>\n",
       "      <th>...</th>\n",
       "      <th>22</th>\n",
       "      <th>23</th>\n",
       "      <th>24</th>\n",
       "      <th>25</th>\n",
       "      <th>26</th>\n",
       "      <th>27</th>\n",
       "      <th>28</th>\n",
       "      <th>29</th>\n",
       "      <th>30</th>\n",
       "      <th>31</th>\n",
       "    </tr>\n",
       "  </thead>\n",
       "  <tbody>\n",
       "    <tr>\n",
       "      <th>0</th>\n",
       "      <td>842302</td>\n",
       "      <td>M</td>\n",
       "      <td>17.99</td>\n",
       "      <td>10.38</td>\n",
       "      <td>122.80</td>\n",
       "      <td>1001.0</td>\n",
       "      <td>0.11840</td>\n",
       "      <td>0.27760</td>\n",
       "      <td>0.3001</td>\n",
       "      <td>0.14710</td>\n",
       "      <td>...</td>\n",
       "      <td>25.38</td>\n",
       "      <td>17.33</td>\n",
       "      <td>184.60</td>\n",
       "      <td>2019.0</td>\n",
       "      <td>0.1622</td>\n",
       "      <td>0.6656</td>\n",
       "      <td>0.7119</td>\n",
       "      <td>0.2654</td>\n",
       "      <td>0.4601</td>\n",
       "      <td>0.11890</td>\n",
       "    </tr>\n",
       "    <tr>\n",
       "      <th>1</th>\n",
       "      <td>842517</td>\n",
       "      <td>M</td>\n",
       "      <td>20.57</td>\n",
       "      <td>17.77</td>\n",
       "      <td>132.90</td>\n",
       "      <td>1326.0</td>\n",
       "      <td>0.08474</td>\n",
       "      <td>0.07864</td>\n",
       "      <td>0.0869</td>\n",
       "      <td>0.07017</td>\n",
       "      <td>...</td>\n",
       "      <td>24.99</td>\n",
       "      <td>23.41</td>\n",
       "      <td>158.80</td>\n",
       "      <td>1956.0</td>\n",
       "      <td>0.1238</td>\n",
       "      <td>0.1866</td>\n",
       "      <td>0.2416</td>\n",
       "      <td>0.1860</td>\n",
       "      <td>0.2750</td>\n",
       "      <td>0.08902</td>\n",
       "    </tr>\n",
       "    <tr>\n",
       "      <th>2</th>\n",
       "      <td>84300903</td>\n",
       "      <td>M</td>\n",
       "      <td>19.69</td>\n",
       "      <td>21.25</td>\n",
       "      <td>130.00</td>\n",
       "      <td>1203.0</td>\n",
       "      <td>0.10960</td>\n",
       "      <td>0.15990</td>\n",
       "      <td>0.1974</td>\n",
       "      <td>0.12790</td>\n",
       "      <td>...</td>\n",
       "      <td>23.57</td>\n",
       "      <td>25.53</td>\n",
       "      <td>152.50</td>\n",
       "      <td>1709.0</td>\n",
       "      <td>0.1444</td>\n",
       "      <td>0.4245</td>\n",
       "      <td>0.4504</td>\n",
       "      <td>0.2430</td>\n",
       "      <td>0.3613</td>\n",
       "      <td>0.08758</td>\n",
       "    </tr>\n",
       "    <tr>\n",
       "      <th>3</th>\n",
       "      <td>84348301</td>\n",
       "      <td>M</td>\n",
       "      <td>11.42</td>\n",
       "      <td>20.38</td>\n",
       "      <td>77.58</td>\n",
       "      <td>386.1</td>\n",
       "      <td>0.14250</td>\n",
       "      <td>0.28390</td>\n",
       "      <td>0.2414</td>\n",
       "      <td>0.10520</td>\n",
       "      <td>...</td>\n",
       "      <td>14.91</td>\n",
       "      <td>26.50</td>\n",
       "      <td>98.87</td>\n",
       "      <td>567.7</td>\n",
       "      <td>0.2098</td>\n",
       "      <td>0.8663</td>\n",
       "      <td>0.6869</td>\n",
       "      <td>0.2575</td>\n",
       "      <td>0.6638</td>\n",
       "      <td>0.17300</td>\n",
       "    </tr>\n",
       "    <tr>\n",
       "      <th>4</th>\n",
       "      <td>84358402</td>\n",
       "      <td>M</td>\n",
       "      <td>20.29</td>\n",
       "      <td>14.34</td>\n",
       "      <td>135.10</td>\n",
       "      <td>1297.0</td>\n",
       "      <td>0.10030</td>\n",
       "      <td>0.13280</td>\n",
       "      <td>0.1980</td>\n",
       "      <td>0.10430</td>\n",
       "      <td>...</td>\n",
       "      <td>22.54</td>\n",
       "      <td>16.67</td>\n",
       "      <td>152.20</td>\n",
       "      <td>1575.0</td>\n",
       "      <td>0.1374</td>\n",
       "      <td>0.2050</td>\n",
       "      <td>0.4000</td>\n",
       "      <td>0.1625</td>\n",
       "      <td>0.2364</td>\n",
       "      <td>0.07678</td>\n",
       "    </tr>\n",
       "  </tbody>\n",
       "</table>\n",
       "<p>5 rows × 32 columns</p>\n",
       "</div>"
      ],
      "text/plain": [
       "         0  1      2      3       4       5        6        7       8   \\\n",
       "0    842302  M  17.99  10.38  122.80  1001.0  0.11840  0.27760  0.3001   \n",
       "1    842517  M  20.57  17.77  132.90  1326.0  0.08474  0.07864  0.0869   \n",
       "2  84300903  M  19.69  21.25  130.00  1203.0  0.10960  0.15990  0.1974   \n",
       "3  84348301  M  11.42  20.38   77.58   386.1  0.14250  0.28390  0.2414   \n",
       "4  84358402  M  20.29  14.34  135.10  1297.0  0.10030  0.13280  0.1980   \n",
       "\n",
       "        9    ...        22     23      24      25      26      27      28  \\\n",
       "0  0.14710   ...     25.38  17.33  184.60  2019.0  0.1622  0.6656  0.7119   \n",
       "1  0.07017   ...     24.99  23.41  158.80  1956.0  0.1238  0.1866  0.2416   \n",
       "2  0.12790   ...     23.57  25.53  152.50  1709.0  0.1444  0.4245  0.4504   \n",
       "3  0.10520   ...     14.91  26.50   98.87   567.7  0.2098  0.8663  0.6869   \n",
       "4  0.10430   ...     22.54  16.67  152.20  1575.0  0.1374  0.2050  0.4000   \n",
       "\n",
       "       29      30       31  \n",
       "0  0.2654  0.4601  0.11890  \n",
       "1  0.1860  0.2750  0.08902  \n",
       "2  0.2430  0.3613  0.08758  \n",
       "3  0.2575  0.6638  0.17300  \n",
       "4  0.1625  0.2364  0.07678  \n",
       "\n",
       "[5 rows x 32 columns]"
      ]
     },
     "execution_count": 5,
     "metadata": {},
     "output_type": "execute_result"
    }
   ],
   "source": [
    "df.head()"
   ]
  },
  {
   "cell_type": "code",
   "execution_count": 6,
   "metadata": {
    "collapsed": false
   },
   "outputs": [
    {
     "data": {
      "text/plain": [
       "array([1, 0])"
      ]
     },
     "execution_count": 6,
     "metadata": {},
     "output_type": "execute_result"
    }
   ],
   "source": [
    "# 30この特徴量をNumPy配列のオブジェクトXに割り当てる\n",
    "from sklearn.preprocessing import LabelEncoder\n",
    "X = df.loc[:, 2:].values\n",
    "y = df.loc[:, 1].values\n",
    "# M/Bを1/0にする\n",
    "le = LabelEncoder()\n",
    "y = le.fit_transform(y)\n",
    "\n",
    "le.transform(['M', 'B'])"
   ]
  },
  {
   "cell_type": "code",
   "execution_count": 7,
   "metadata": {
    "collapsed": false
   },
   "outputs": [
    {
     "data": {
      "text/plain": [
       "(455, 30)"
      ]
     },
     "metadata": {},
     "output_type": "display_data"
    },
    {
     "data": {
      "text/plain": [
       "(114, 30)"
      ]
     },
     "metadata": {},
     "output_type": "display_data"
    }
   ],
   "source": [
    "# トレーニングデータセットとテストデータセットに分割する\n",
    "if Version(sklearn_version) < '0.18':\n",
    "    from sklearn.cross_validation import train_test_split\n",
    "else:\n",
    "    from sklearn.model_selection import train_test_split\n",
    "\n",
    "X_train, X_test, y_train, y_test = train_test_split(X, y, test_size=0.20, random_state=1)\n",
    "display(X_train.shape)\n",
    "display(X_test.shape)"
   ]
  },
  {
   "cell_type": "markdown",
   "metadata": {},
   "source": [
    "### 6.1.2 パイプラインで変換器と推定器を結合する"
   ]
  },
  {
   "cell_type": "code",
   "execution_count": 8,
   "metadata": {
    "collapsed": false
   },
   "outputs": [
    {
     "name": "stdout",
     "output_type": "stream",
     "text": [
      "Test Accuracy: 0.947\n"
     ]
    }
   ],
   "source": [
    "from sklearn.preprocessing import StandardScaler\n",
    "from sklearn.decomposition import PCA\n",
    "from sklearn.linear_model import LogisticRegression\n",
    "from sklearn.pipeline import Pipeline\n",
    "\n",
    "# スケーリング(標準化)、主成分分析(PCA)、ロジスティック回帰をパイプラインで連結する\n",
    "pipe_lr = Pipeline([('scl', StandardScaler()),\n",
    "                    ('pca', PCA(n_components=2)),\n",
    "                    ('clf', LogisticRegression(random_state=1))\n",
    "                   ])\n",
    "pipe_lr.fit(X_train, y_train)\n",
    "print('Test Accuracy: {:.3f}'.format(pipe_lr.score(X_test, y_test)))"
   ]
  },
  {
   "cell_type": "markdown",
   "metadata": {},
   "source": [
    "## 6.2 k分割交差検証を使ったモデルの性能の評価\n",
    "\n",
    "* ホールドアウト法(holdout method)\n",
    "* k分割交差検証(k-fold corss-validation)\n",
    "\n",
    "### 6.2.1 ホールドアウト法\n",
    "\n",
    "* トレーニングデータセットをトレーニングデータセットと検証データセットに分割\n",
    "* 検証データセットでの性能により、モデルを選択する\n",
    "\n",
    "### 6.2.2 k分割交差検証\n",
    "\n",
    "* 標準的に用いられるkの値は10\n",
    "* 比較的小さなトレーニングデータセットの場合→分割数(k)を増やす\n",
    "* 大きなデータセットの場合→分割数(k)を減らす\n",
    "* かなり小さいデータセットの場合→サンプルの個数と同じにする(k=n)\n",
    "\n",
    "* 改善したものに、層化k分割交差検証(stratified k-fold corss-validation)がある\n",
    "* クラスの比率が均等でないときに、評価のバイアスとバリアンスが改善される"
   ]
  },
  {
   "cell_type": "code",
   "execution_count": 9,
   "metadata": {
    "collapsed": false
   },
   "outputs": [
    {
     "name": "stdout",
     "output_type": "stream",
     "text": [
      "Fold: 1, Class dist.: [256 153], Acc: 0.891\n",
      "Fold: 2, Class dist.: [256 153], Acc: 0.978\n",
      "Fold: 3, Class dist.: [256 153], Acc: 0.978\n",
      "Fold: 4, Class dist.: [256 153], Acc: 0.913\n",
      "Fold: 5, Class dist.: [256 153], Acc: 0.935\n",
      "Fold: 6, Class dist.: [257 153], Acc: 0.978\n",
      "Fold: 7, Class dist.: [257 153], Acc: 0.933\n",
      "Fold: 8, Class dist.: [257 153], Acc: 0.956\n",
      "Fold: 9, Class dist.: [257 153], Acc: 0.978\n",
      "Fold: 10, Class dist.: [257 153], Acc: 0.956\n",
      "CV accuracy: 0.950 +/- 0.029\n"
     ]
    },
    {
     "name": "stderr",
     "output_type": "stream",
     "text": [
      "/Users/takanori/Private/python-machine-learning/venv/lib/python3.5/site-packages/sklearn/cross_validation.py:44: DeprecationWarning: This module was deprecated in version 0.18 in favor of the model_selection module into which all the refactored classes and functions are moved. Also note that the interface of the new CV iterators are different from that of this module. This module will be removed in 0.20.\n",
      "  \"This module will be removed in 0.20.\", DeprecationWarning)\n"
     ]
    }
   ],
   "source": [
    "import numpy as np\n",
    "from sklearn.cross_validation import StratifiedKFold\n",
    "\n",
    "# 分割元データ、分割数、乱数生成器の状態を指定し、層化k分割交差検証のインスタンスを生成\n",
    "kfold = StratifiedKFold(y=y_train, n_folds=10, random_state=1)\n",
    "scores = []\n",
    "\n",
    "for k, (train, test) in enumerate(kfold):\n",
    "    pipe_lr.fit(X_train[train], y_train[train])\n",
    "    score = pipe_lr.score(X_train[test], y_train[test])\n",
    "    scores.append(score)\n",
    "    print('Fold: {}, Class dist.: {}, Acc: {:.3f}'.format(k + 1, np.bincount(y_train[train]), score))\n",
    "\n",
    "# 正解率の平均と標準偏差を出力\n",
    "print('CV accuracy: {:.3f} +/- {:.3f}'.format(np.mean(scores), np.std(scores)))"
   ]
  },
  {
   "cell_type": "code",
   "execution_count": 10,
   "metadata": {
    "collapsed": false
   },
   "outputs": [
    {
     "name": "stdout",
     "output_type": "stream",
     "text": [
      "CV accuracy scores: [ 0.89130435  0.97826087  0.97826087  0.91304348  0.93478261  0.97777778\n",
      "  0.93333333  0.95555556  0.97777778  0.95555556]\n",
      "CV accuracy: 0.950 +/- 0.029\n"
     ]
    }
   ],
   "source": [
    "if Version(sklearn_version) < '0.18':\n",
    "    from sklearn.cross_validation import cross_val_score\n",
    "else:\n",
    "    from sklearn.model_selection import cross_val_score\n",
    "    \n",
    "# 交差検証の cross_val_score 関数でモデルの正解率を算出\n",
    "scores = cross_val_score(estimator=pipe_lr, X=X_train, y=y_train, cv=10, n_jobs=1)\n",
    "print('CV accuracy scores: {}'.format(scores))\n",
    "print('CV accuracy: {:.3f} +/- {:.3f}'.format(np.mean(scores), np.std(scores)))"
   ]
  },
  {
   "cell_type": "markdown",
   "metadata": {},
   "source": [
    "## 6.3 学習曲線と検証曲線によるアルゴリズムの診断\n",
    "\n",
    "* 学習曲線(learning curve)\n",
    "* 検証曲線(validation curve)\n",
    "\n",
    "### 6.3.1 学習曲線を使ってバイアスとバリアンスの問題を診断する"
   ]
  },
  {
   "cell_type": "code",
   "execution_count": 11,
   "metadata": {
    "collapsed": false
   },
   "outputs": [
    {
     "data": {
      "text/plain": [
       "array([ 40,  81, 122, 163, 204, 245, 286, 327, 368, 409])"
      ]
     },
     "metadata": {},
     "output_type": "display_data"
    },
    {
     "data": {
      "image/png": "[encoded data removed]",
      "text/plain": [
       "<matplotlib.figure.Figure at 0x10ad034e0>"
      ]
     },
     "metadata": {},
     "output_type": "display_data"
    }
   ],
   "source": [
    "import matplotlib.pyplot as plt\n",
    "if Version(sklearn_version) < '0.18':\n",
    "    from sklearn.learning_curve import learning_curve\n",
    "else:\n",
    "    from sklearn.model_selection import learning_curve\n",
    "    \n",
    "pipe_lr = Pipeline([('scl', StandardScaler()),\n",
    "                    ('clf', LogisticRegression(penalty='l2', random_state=0))\n",
    "                   ])\n",
    "# learning_curve 関数で交差検証による正解率を算出\n",
    "train_sizes, train_scores, test_scores = learning_curve(estimator=pipe_lr,\n",
    "                                                         X=X_train, y=y_train,\n",
    "                                                         train_sizes=np.linspace(0.1, 1.0, 10),\n",
    "                                                         cv=10, n_jobs=1)\n",
    "display(train_sizes)\n",
    "\n",
    "# 平均と標準偏差を求める\n",
    "train_mean = np.mean(train_scores, axis=1)\n",
    "train_std = np.std(train_scores, axis=1)\n",
    "test_mean = np.mean(test_scores, axis=1)\n",
    "test_std = np.std(test_scores, axis=1)\n",
    "\n",
    "plt.plot(train_sizes, train_mean, color='blue', marker='o', markersize=5, label='training accuracy')\n",
    "# fill_between 関数で平均±標準偏差の幅を塗りつぶす\n",
    "plt.fill_between(train_sizes, train_mean + train_std, train_mean - train_std, alpha=0.15, color='blue')\n",
    "\n",
    "plt.plot(train_sizes, test_mean, color='green', linestyle='--', marker='s', markersize=5, label='validation accuracy')\n",
    "plt.fill_between(train_sizes, test_mean + test_std, test_mean - test_std, alpha=0.15, color='green')\n",
    "\n",
    "plt.grid()\n",
    "plt.xlabel('Number of training samples')\n",
    "plt.ylabel('Accuracy')\n",
    "plt.legend(loc='lower right')\n",
    "plt.ylim([0.8, 1.0])\n",
    "plt.show()"
   ]
  },
  {
   "cell_type": "markdown",
   "metadata": {},
   "source": [
    "### 6.3.2 検証曲線を使って過学習と学習不足を明らかにする\n",
    "\n",
    "* たとえばロジスティック回帰の逆正則化パラメータCを変化させる"
   ]
  },
  {
   "cell_type": "code",
   "execution_count": 12,
   "metadata": {
    "collapsed": false
   },
   "outputs": [
    {
     "data": {
      "image/png": "[encoded data removed]",
      "text/plain": [
       "<matplotlib.figure.Figure at 0x10c010f60>"
      ]
     },
     "metadata": {},
     "output_type": "display_data"
    }
   ],
   "source": [
    "if Version(sklearn_version) < '0.18':\n",
    "    from sklearn.learning_curve import validation_curve\n",
    "else:\n",
    "    from sklearn.model_selection import validation_curve\n",
    "\n",
    "param_range = [0.001, 0.01, 0.1, 1.0, 10.0, 100.0]\n",
    "# validation_curve関数によりモデルのパラメータを変化させ、交差検証による正解率を算出\n",
    "# clf__C は LogisticRegression オブジェクトのパラメータ\n",
    "train_scores, test_scores = validation_curve(estimator=pipe_lr,\n",
    "                                             X=X_train, y=y_train,\n",
    "                                             param_name='clf__C',\n",
    "                                             param_range=param_range,\n",
    "                                             cv=10)\n",
    "\n",
    "# 平均と標準偏差を求める\n",
    "train_mean = np.mean(train_scores, axis=1)\n",
    "train_std = np.std(train_scores, axis=1)\n",
    "test_mean = np.mean(test_scores, axis=1)\n",
    "test_std = np.std(test_scores, axis=1)\n",
    "\n",
    "plt.plot(param_range, train_mean, color='blue', marker='o', markersize=5, label='training accuracy')\n",
    "plt.fill_between(param_range, train_mean + train_std, train_mean - train_std, alpha=0.15, color='blue')\n",
    "\n",
    "plt.plot(param_range, test_mean, color='green', linestyle='--', marker='s', markersize=5, label='validation accuracy')\n",
    "plt.fill_between(param_range, test_mean + test_std, test_mean - test_std, alpha=0.15, color='green')\n",
    "\n",
    "plt.grid()\n",
    "plt.xscale('log')\n",
    "plt.xlabel('Parameter C')\n",
    "plt.ylabel('Accuracy')\n",
    "plt.legend(loc='lower right')\n",
    "plt.ylim([0.8, 1.0])\n",
    "plt.show()"
   ]
  },
  {
   "cell_type": "markdown",
   "metadata": {
    "collapsed": true
   },
   "source": [
    "## 6.4 グリッドサーチによる機械学習モデルのチューニング\n",
    "\n",
    "* グリッドサーチ(grid search)\n",
    "* ハイパーパラメーター(hyperparameter)\n",
    "* 例: ロジスティック回帰の正則化パラメータ\n",
    "* 例: 決定木の深さパラメータ\n",
    "\n",
    "### 6.4.1 グリッドサーチを使ってハイパーパラメータをチューニングする"
   ]
  },
  {
   "cell_type": "code",
   "execution_count": 13,
   "metadata": {
    "collapsed": false
   },
   "outputs": [
    {
     "name": "stdout",
     "output_type": "stream",
     "text": [
      "0.978021978022\n",
      "{'clf__kernel': 'linear', 'clf__C': 0.1}\n"
     ]
    }
   ],
   "source": [
    "from sklearn.svm import SVC\n",
    "if Version(sklearn_version) < '0.18':\n",
    "    from sklearn.grid_search import GridSearchCV\n",
    "else:\n",
    "    from sklearn.model_selection import GridSearchCV\n",
    "\n",
    "pipe_svc = Pipeline([('scl', StandardScaler()),\n",
    "                     ('clf', SVC(random_state=1))     \n",
    "    ])\n",
    "param_range = [0.0001, 0.001, 0.01, 0.1, 1.0, 10.0, 100.0, 1000.0]\n",
    "param_grid = [{'clf__C': param_range, 'clf__kernel': ['linear']},\n",
    "              {'clf__C': param_range, 'clf__gamma': param_range, 'clf__kernel': ['rbf']}\n",
    "             ]\n",
    "# ハイパーパラメータ値のリストparam_gridを指定し、グリッドサーチを行うGridSearchCVクラスのインスタンス化\n",
    "gs = GridSearchCV(estimator=pipe_svc, param_grid=param_grid, scoring='accuracy', cv=10, n_jobs=-1)\n",
    "gs = gs.fit(X_train, y_train)\n",
    "# モデルの最良スコアを出力\n",
    "print(gs.best_score_)\n",
    "# 最良スコアとなるパラメータ値を出力\n",
    "print(gs.best_params_)"
   ]
  },
  {
   "cell_type": "code",
   "execution_count": 14,
   "metadata": {
    "collapsed": false
   },
   "outputs": [
    {
     "data": {
      "text/plain": [
       "Pipeline(steps=[('scl', StandardScaler(copy=True, with_mean=True, with_std=True)), ('clf', SVC(C=0.1, cache_size=200, class_weight=None, coef0=0.0,\n",
       "  decision_function_shape=None, degree=3, gamma='auto', kernel='linear',\n",
       "  max_iter=-1, probability=False, random_state=1, shrinking=True,\n",
       "  tol=0.001, verbose=False))])"
      ]
     },
     "metadata": {},
     "output_type": "display_data"
    },
    {
     "name": "stdout",
     "output_type": "stream",
     "text": [
      "Test accuracy: 0.965\n",
      "0.642 (+/-0.029) for {'clf__kernel': 'linear', 'clf__C': 0.0001}\n",
      "0.938 (+/-0.029) for {'clf__kernel': 'linear', 'clf__C': 0.001}\n",
      "0.960 (+/-0.029) for {'clf__kernel': 'linear', 'clf__C': 0.01}\n",
      "0.978 (+/-0.029) for {'clf__kernel': 'linear', 'clf__C': 0.1}\n",
      "0.976 (+/-0.029) for {'clf__kernel': 'linear', 'clf__C': 1.0}\n",
      "0.971 (+/-0.029) for {'clf__kernel': 'linear', 'clf__C': 10.0}\n",
      "0.952 (+/-0.029) for {'clf__kernel': 'linear', 'clf__C': 100.0}\n",
      "0.945 (+/-0.029) for {'clf__kernel': 'linear', 'clf__C': 1000.0}\n",
      "0.626 (+/-0.029) for {'clf__gamma': 0.0001, 'clf__kernel': 'rbf', 'clf__C': 0.0001}\n",
      "0.626 (+/-0.029) for {'clf__gamma': 0.001, 'clf__kernel': 'rbf', 'clf__C': 0.0001}\n",
      "0.626 (+/-0.029) for {'clf__gamma': 0.01, 'clf__kernel': 'rbf', 'clf__C': 0.0001}\n",
      "0.626 (+/-0.029) for {'clf__gamma': 0.1, 'clf__kernel': 'rbf', 'clf__C': 0.0001}\n",
      "0.626 (+/-0.029) for {'clf__gamma': 1.0, 'clf__kernel': 'rbf', 'clf__C': 0.0001}\n",
      "0.626 (+/-0.029) for {'clf__gamma': 10.0, 'clf__kernel': 'rbf', 'clf__C': 0.0001}\n",
      "0.626 (+/-0.029) for {'clf__gamma': 100.0, 'clf__kernel': 'rbf', 'clf__C': 0.0001}\n",
      "0.626 (+/-0.029) for {'clf__gamma': 1000.0, 'clf__kernel': 'rbf', 'clf__C': 0.0001}\n",
      "0.626 (+/-0.029) for {'clf__gamma': 0.0001, 'clf__kernel': 'rbf', 'clf__C': 0.001}\n",
      "0.626 (+/-0.029) for {'clf__gamma': 0.001, 'clf__kernel': 'rbf', 'clf__C': 0.001}\n",
      "0.626 (+/-0.029) for {'clf__gamma': 0.01, 'clf__kernel': 'rbf', 'clf__C': 0.001}\n",
      "0.626 (+/-0.029) for {'clf__gamma': 0.1, 'clf__kernel': 'rbf', 'clf__C': 0.001}\n",
      "0.626 (+/-0.029) for {'clf__gamma': 1.0, 'clf__kernel': 'rbf', 'clf__C': 0.001}\n",
      "0.626 (+/-0.029) for {'clf__gamma': 10.0, 'clf__kernel': 'rbf', 'clf__C': 0.001}\n",
      "0.626 (+/-0.029) for {'clf__gamma': 100.0, 'clf__kernel': 'rbf', 'clf__C': 0.001}\n",
      "0.626 (+/-0.029) for {'clf__gamma': 1000.0, 'clf__kernel': 'rbf', 'clf__C': 0.001}\n",
      "0.626 (+/-0.029) for {'clf__gamma': 0.0001, 'clf__kernel': 'rbf', 'clf__C': 0.01}\n",
      "0.626 (+/-0.029) for {'clf__gamma': 0.001, 'clf__kernel': 'rbf', 'clf__C': 0.01}\n",
      "0.626 (+/-0.029) for {'clf__gamma': 0.01, 'clf__kernel': 'rbf', 'clf__C': 0.01}\n",
      "0.626 (+/-0.029) for {'clf__gamma': 0.1, 'clf__kernel': 'rbf', 'clf__C': 0.01}\n",
      "0.626 (+/-0.029) for {'clf__gamma': 1.0, 'clf__kernel': 'rbf', 'clf__C': 0.01}\n",
      "0.626 (+/-0.029) for {'clf__gamma': 10.0, 'clf__kernel': 'rbf', 'clf__C': 0.01}\n",
      "0.626 (+/-0.029) for {'clf__gamma': 100.0, 'clf__kernel': 'rbf', 'clf__C': 0.01}\n",
      "0.626 (+/-0.029) for {'clf__gamma': 1000.0, 'clf__kernel': 'rbf', 'clf__C': 0.01}\n",
      "0.626 (+/-0.029) for {'clf__gamma': 0.0001, 'clf__kernel': 'rbf', 'clf__C': 0.1}\n",
      "0.774 (+/-0.029) for {'clf__gamma': 0.001, 'clf__kernel': 'rbf', 'clf__C': 0.1}\n",
      "0.947 (+/-0.029) for {'clf__gamma': 0.01, 'clf__kernel': 'rbf', 'clf__C': 0.1}\n",
      "0.938 (+/-0.029) for {'clf__gamma': 0.1, 'clf__kernel': 'rbf', 'clf__C': 0.1}\n",
      "0.626 (+/-0.029) for {'clf__gamma': 1.0, 'clf__kernel': 'rbf', 'clf__C': 0.1}\n",
      "0.626 (+/-0.029) for {'clf__gamma': 10.0, 'clf__kernel': 'rbf', 'clf__C': 0.1}\n",
      "0.626 (+/-0.029) for {'clf__gamma': 100.0, 'clf__kernel': 'rbf', 'clf__C': 0.1}\n",
      "0.626 (+/-0.029) for {'clf__gamma': 1000.0, 'clf__kernel': 'rbf', 'clf__C': 0.1}\n",
      "0.780 (+/-0.029) for {'clf__gamma': 0.0001, 'clf__kernel': 'rbf', 'clf__C': 1.0}\n",
      "0.949 (+/-0.029) for {'clf__gamma': 0.001, 'clf__kernel': 'rbf', 'clf__C': 1.0}\n",
      "0.967 (+/-0.029) for {'clf__gamma': 0.01, 'clf__kernel': 'rbf', 'clf__C': 1.0}\n",
      "0.958 (+/-0.029) for {'clf__gamma': 0.1, 'clf__kernel': 'rbf', 'clf__C': 1.0}\n",
      "0.631 (+/-0.029) for {'clf__gamma': 1.0, 'clf__kernel': 'rbf', 'clf__C': 1.0}\n",
      "0.626 (+/-0.029) for {'clf__gamma': 10.0, 'clf__kernel': 'rbf', 'clf__C': 1.0}\n",
      "0.626 (+/-0.029) for {'clf__gamma': 100.0, 'clf__kernel': 'rbf', 'clf__C': 1.0}\n",
      "0.626 (+/-0.029) for {'clf__gamma': 1000.0, 'clf__kernel': 'rbf', 'clf__C': 1.0}\n",
      "0.949 (+/-0.029) for {'clf__gamma': 0.0001, 'clf__kernel': 'rbf', 'clf__C': 10.0}\n",
      "0.960 (+/-0.029) for {'clf__gamma': 0.001, 'clf__kernel': 'rbf', 'clf__C': 10.0}\n",
      "0.974 (+/-0.029) for {'clf__gamma': 0.01, 'clf__kernel': 'rbf', 'clf__C': 10.0}\n",
      "0.956 (+/-0.029) for {'clf__gamma': 0.1, 'clf__kernel': 'rbf', 'clf__C': 10.0}\n",
      "0.637 (+/-0.029) for {'clf__gamma': 1.0, 'clf__kernel': 'rbf', 'clf__C': 10.0}\n",
      "0.626 (+/-0.029) for {'clf__gamma': 10.0, 'clf__kernel': 'rbf', 'clf__C': 10.0}\n",
      "0.626 (+/-0.029) for {'clf__gamma': 100.0, 'clf__kernel': 'rbf', 'clf__C': 10.0}\n",
      "0.626 (+/-0.029) for {'clf__gamma': 1000.0, 'clf__kernel': 'rbf', 'clf__C': 10.0}\n",
      "0.960 (+/-0.029) for {'clf__gamma': 0.0001, 'clf__kernel': 'rbf', 'clf__C': 100.0}\n",
      "0.976 (+/-0.029) for {'clf__gamma': 0.001, 'clf__kernel': 'rbf', 'clf__C': 100.0}\n",
      "0.969 (+/-0.029) for {'clf__gamma': 0.01, 'clf__kernel': 'rbf', 'clf__C': 100.0}\n",
      "0.956 (+/-0.029) for {'clf__gamma': 0.1, 'clf__kernel': 'rbf', 'clf__C': 100.0}\n",
      "0.637 (+/-0.029) for {'clf__gamma': 1.0, 'clf__kernel': 'rbf', 'clf__C': 100.0}\n",
      "0.626 (+/-0.029) for {'clf__gamma': 10.0, 'clf__kernel': 'rbf', 'clf__C': 100.0}\n",
      "0.626 (+/-0.029) for {'clf__gamma': 100.0, 'clf__kernel': 'rbf', 'clf__C': 100.0}\n",
      "0.626 (+/-0.029) for {'clf__gamma': 1000.0, 'clf__kernel': 'rbf', 'clf__C': 100.0}\n",
      "0.978 (+/-0.029) for {'clf__gamma': 0.0001, 'clf__kernel': 'rbf', 'clf__C': 1000.0}\n",
      "0.976 (+/-0.029) for {'clf__gamma': 0.001, 'clf__kernel': 'rbf', 'clf__C': 1000.0}\n",
      "0.960 (+/-0.029) for {'clf__gamma': 0.01, 'clf__kernel': 'rbf', 'clf__C': 1000.0}\n",
      "0.956 (+/-0.029) for {'clf__gamma': 0.1, 'clf__kernel': 'rbf', 'clf__C': 1000.0}\n",
      "0.637 (+/-0.029) for {'clf__gamma': 1.0, 'clf__kernel': 'rbf', 'clf__C': 1000.0}\n",
      "0.626 (+/-0.029) for {'clf__gamma': 10.0, 'clf__kernel': 'rbf', 'clf__C': 1000.0}\n",
      "0.626 (+/-0.029) for {'clf__gamma': 100.0, 'clf__kernel': 'rbf', 'clf__C': 1000.0}\n",
      "0.626 (+/-0.029) for {'clf__gamma': 1000.0, 'clf__kernel': 'rbf', 'clf__C': 1000.0}\n"
     ]
    },
    {
     "name": "stderr",
     "output_type": "stream",
     "text": [
      "/Users/takanori/Private/python-machine-learning/venv/lib/python3.5/site-packages/sklearn/model_selection/_search.py:662: DeprecationWarning: The grid_scores_ attribute was deprecated in version 0.18 in favor of the more elaborate cv_results_ attribute. The grid_scores_ attribute will not be available from 0.20\n",
      "  DeprecationWarning)\n"
     ]
    }
   ],
   "source": [
    "# 選択されたモデルの性能を評価する\n",
    "clf = gs.best_estimator_\n",
    "display(clf)\n",
    "clf.fit(X_train, y_train)\n",
    "print('Test accuracy: {:.3f}'.format(clf.score(X_test, y_test)))\n",
    "\n",
    "for params, mean_score, socres in gs.grid_scores_:\n",
    "    print('{:.3f} (+/-{:.3f}) for {}'.format(mean_score, scores.std(), params))"
   ]
  },
  {
   "cell_type": "markdown",
   "metadata": {},
   "source": [
    "### 6.4.2 入れ子式の交差検証によるアルゴリズムの選択\n",
    "\n",
    "* 入れ子式の交差検証(nested corss-validation)"
   ]
  },
  {
   "cell_type": "code",
   "execution_count": 15,
   "metadata": {
    "collapsed": false
   },
   "outputs": [
    {
     "name": "stdout",
     "output_type": "stream",
     "text": [
      "CV accuracy: 0.965 +/-0.025\n"
     ]
    }
   ],
   "source": [
    "gs = GridSearchCV(estimator=pipe_svc, param_grid=param_grid, scoring='accuracy', cv=2, n_jobs=-1)\n",
    "scores = cross_val_score(gs, X_train, y_train, scoring='accuracy', cv=5)\n",
    "print('CV accuracy: {:.3f} +/-{:.3f}'.format(np.mean(scores), np.std(scores)))"
   ]
  },
  {
   "cell_type": "code",
   "execution_count": 17,
   "metadata": {
    "collapsed": false
   },
   "outputs": [
    {
     "name": "stdout",
     "output_type": "stream",
     "text": [
      "CV accuracy: 0.921 +/-0.029\n"
     ]
    }
   ],
   "source": [
    "from sklearn.tree import DecisionTreeClassifier\n",
    "# ハイパーパラメーター値として決定木の深さパラメータを指定し、\n",
    "# グリッドサーチを行う GridSearchCV クラスをインスタンス化\n",
    "estimator = DecisionTreeClassifier(random_state=0)\n",
    "param_grid = [{'max_depth': [1, 2, 3, 4, 5, 6, 7, None]}]\n",
    "gs = GridSearchCV(estimator=estimator, param_grid=param_grid, scoring='accuracy', cv=2)\n",
    "\n",
    "scores = cross_val_score(gs, X_train, y_train, scoring='accuracy', cv=5)\n",
    "print('CV accuracy: {:.3f} +/-{:.3f}'.format(np.mean(scores), np.std(scores)))"
   ]
  },
  {
   "cell_type": "markdown",
   "metadata": {},
   "source": [
    "## 6.5 さまざまな性能評価指標\n",
    "\n",
    "* 適合率(precision)\n",
    "* 再現率(recall)\n",
    "* F1 スコア(F1-score)\n",
    "\n",
    "### 6.5.1 混同行列を解釈する\n",
    "\n",
    "* 混同行列(cofusion matrix)\n",
    "  * 真陽性(true positive)\n",
    "  * 真陰性(true negative)\n",
    "  * 偽陽性(false positive)\n",
    "  * 偽陰性(false negative)"
   ]
  },
  {
   "cell_type": "code",
   "execution_count": 19,
   "metadata": {
    "collapsed": false
   },
   "outputs": [
    {
     "name": "stdout",
     "output_type": "stream",
     "text": [
      "[[71  1]\n",
      " [ 2 40]]\n"
     ]
    }
   ],
   "source": [
    "from sklearn.metrics import confusion_matrix\n",
    "pipe_svc.fit(X_train, y_train)\n",
    "y_pred = pipe_svc.predict(X_test)\n",
    "# テストと予測データから混同行列を生成\n",
    "confmat = confusion_matrix(y_true=y_test, y_pred=y_pred)\n",
    "print(confmat)"
   ]
  },
  {
   "cell_type": "code",
   "execution_count": 22,
   "metadata": {
    "collapsed": false
   },
   "outputs": [
    {
     "data": {
      "image/png": "[encoded data removed]",
      "text/plain": [
       "<matplotlib.figure.Figure at 0x10bea4198>"
      ]
     },
     "metadata": {},
     "output_type": "display_data"
    }
   ],
   "source": [
    "# 図のサイズを指定\n",
    "fig, ax = plt.subplots(figsize=(2.5, 2.5))\n",
    "# matshow 関数で行列からヒートマップを描画\n",
    "ax.matshow(confmat, cmap=plt.cm.Blues, alpha=0.3)\n",
    "for i in range(confmat.shape[0]):\n",
    "    for j in range(confmat.shape[1]):\n",
    "        ax.text(x=j, y=i, s=confmat[i, j], va='center', ha='center')\n",
    "plt.xlabel('predicted label')\n",
    "plt.ylabel('true label')\n",
    "plt.show()"
   ]
  },
  {
   "cell_type": "markdown",
   "metadata": {},
   "source": [
    "### 6.5.2 分類モデルの適合率と再現率を最適化する\n",
    "\n",
    "* 誤分類率(ERR)\n",
    "* 正解率(ACC)\n",
    "* 真陽性率(TPR)\n",
    "* 偽陽性率(FPR)\n",
    "* 適合率(PRE: precision)\n",
    "* 再現率(REC: recall)"
   ]
  },
  {
   "cell_type": "code",
   "execution_count": 23,
   "metadata": {
    "collapsed": false
   },
   "outputs": [
    {
     "name": "stdout",
     "output_type": "stream",
     "text": [
      "Precision: 0.976\n",
      "Recall: 0.952\n",
      "F1: 0.964\n"
     ]
    }
   ],
   "source": [
    "# 適合率、再現率、F1 スコアを出力\n",
    "from sklearn.metrics import precision_score\n",
    "from sklearn.metrics import recall_score\n",
    "from sklearn.metrics import f1_score\n",
    "print('Precision: {:.3f}'.format(precision_score(y_true=y_test, y_pred=y_pred)))\n",
    "print('Recall: {:.3f}'.format(recall_score(y_true=y_test, y_pred=y_pred)))\n",
    "print('F1: {:.3f}'.format(f1_score(y_true=y_test, y_pred=y_pred)))"
   ]
  },
  {
   "cell_type": "code",
   "execution_count": 26,
   "metadata": {
    "collapsed": false
   },
   "outputs": [
    {
     "name": "stdout",
     "output_type": "stream",
     "text": [
      "0.982798668208\n",
      "{'clf__kernel': 'linear', 'clf__C': 0.1}\n"
     ]
    }
   ],
   "source": [
    "# カスタムの性能指標を出力\n",
    "from sklearn.metrics import make_scorer, f1_score\n",
    "scorer = make_scorer(f1_score, pos_label=0)\n",
    "param_range = [0.0001, 0.001, 0.01, 0.1, 1.0, 10.0, 100.0, 1000.0]\n",
    "param_grid = [{'clf__C': param_range, 'clf__kernel': ['linear']},\n",
    "              {'clf__C': param_range, 'clf__gamma': param_range, 'clf__kernel': ['rbf']}\n",
    "             ]\n",
    "gs = GridSearchCV(estimator=pipe_svc, param_grid=param_grid, scoring=scorer, cv=10)\n",
    "gs = gs.fit(X_train, y_train)\n",
    "# モデルの最良スコアを出力\n",
    "print(gs.best_score_)\n",
    "# 最良スコアとなるパラメータ値を出力\n",
    "print(gs.best_params_)"
   ]
  },
  {
   "cell_type": "markdown",
   "metadata": {},
   "source": [
    "### 6.5.3 ROC曲線をプロットする\n",
    "\n",
    "* 受信者操作特性(Receiver Operator Characteristic: ROC)曲線\n",
    "* 曲線下面積(Area Under the Curve: AUC)"
   ]
  },
  {
   "cell_type": "code",
   "execution_count": 33,
   "metadata": {
    "collapsed": false
   },
   "outputs": [
    {
     "data": {
      "image/png": "[encoded data removed]",
      "text/plain": [
       "<matplotlib.figure.Figure at 0x10c9307f0>"
      ]
     },
     "metadata": {},
     "output_type": "display_data"
    }
   ],
   "source": [
    "from sklearn.metrics import roc_curve, auc\n",
    "from scipy import interp\n",
    "# スケーリング、主成分分析、ロジスティック回帰を指定して、Pipelineを作る\n",
    "pipe_lr = Pipeline([('scl', StandardScaler()),\n",
    "                    ('pca', PCA(n_components=2)),\n",
    "                    ('clf', LogisticRegression(penalty='l2', random_state=0, C=100.0))\n",
    "                   ])\n",
    "# 2つの特徴量を抽出\n",
    "X_train2 = X_train[:, [4, 14]]\n",
    "# 層化k分割交差検証イテレータを表す StratifiedKFold クラスをインスタンス化\n",
    "cv = StratifiedKFold(y_train, n_folds=3, random_state=1)\n",
    "fig = plt.figure(figsize=(7, 5))\n",
    "mean_tpr = 0.0\n",
    "\n",
    "# 0から1までの間に100個の要素を生成\n",
    "mean_fpr = np.linspace(0, 1, 100)\n",
    "all_tpr = []\n",
    "\n",
    "for i, (train, test) in enumerate(cv):\n",
    "    # predict_probaメソッドで確率を予測、fitメソッドでモデルに適合させる\n",
    "    probas = pipe_lr.fit(X_train2[train], y_train[train]).predict_proba(X_train2[test])\n",
    "    # roc_curve関数でROC曲線の性能を計算してプロット\n",
    "    fpr, tpr, thresholds = roc_curve(y_train[test], probas[:, 1], pos_label=1)\n",
    "    # FPR(X軸)とTPR(Y軸)を線形補完\n",
    "    mean_tpr += interp(mean_fpr, fpr, tpr)\n",
    "    mean_tpr[0] = 0.0\n",
    "    # 曲線下面積(AUC)を計算\n",
    "    roc_auc = auc(fpr, tpr)\n",
    "    plt.plot(fpr, tpr, lw=1, label='ROC fold {:d} (area = {:.2f})'.format(i + 1, roc_auc))\n",
    "    \n",
    "# 当て推量をプロット\n",
    "plt.plot([0, 1], [0, 1], linestyle='--', color=(0.6, 0.6, 0.6), label='random guessing')\n",
    "\n",
    "# FPR, TPR, ROC AUC それぞれの平均を計算してプロット\n",
    "mean_tpr /= len(cv)\n",
    "mean_tpr[-1] = 1.0\n",
    "mean_auc = auc(mean_fpr, mean_tpr)\n",
    "plt.plot(mean_fpr, mean_tpr, 'k--', label='mean ROC (area = {:.2f})'.format(mean_auc), lw=2)\n",
    "\n",
    "# 完全に予測が正解したときのROC曲線をプロット\n",
    "plt.plot([0, 0, 1], [0, 1, 1], lw=2, linestyle=':', color='black', label='perfect performance')\n",
    "\n",
    "plt.xlim([-0.05, 1.05])\n",
    "plt.ylim([-0.05, 1.05])\n",
    "plt.xlabel('false positive rate')\n",
    "plt.ylabel('true positive rate')\n",
    "plt.title('Receiver Operator Characteristic')\n",
    "plt.legend(loc='lower right')\n",
    "plt.show()"
   ]
  },
  {
   "cell_type": "code",
   "execution_count": 35,
   "metadata": {
    "collapsed": false
   },
   "outputs": [
    {
     "name": "stdout",
     "output_type": "stream",
     "text": [
      "ROC AUC: 0.662\n",
      "Accuracy: 0.711\n"
     ]
    }
   ],
   "source": [
    "# 予測値のAUCと正解率を計算して出力\n",
    "pipe_lr = pipe_lr.fit(X_train2, y_train)\n",
    "y_pred2 = pipe_lr.predict(X_test[:, [4, 14]])\n",
    "from sklearn.metrics import roc_auc_score, accuracy_score\n",
    "print('ROC AUC: {:.3f}'.format(roc_auc_score(y_true=y_test, y_score=y_pred2)))\n",
    "print('Accuracy: {:.3f}'.format(accuracy_score(y_true=y_test, y_pred=y_pred2)))"
   ]
  },
  {
   "cell_type": "markdown",
   "metadata": {},
   "source": [
    "### 6.5.4 他クラス分類のための性能指標\n",
    "\n",
    "* マクロ(macro)平均法\n",
    "* マイクロ(micro)平均法\n",
    "* 一対全(One-vs.-All)分類"
   ]
  },
  {
   "cell_type": "code",
   "execution_count": 39,
   "metadata": {
    "collapsed": false
   },
   "outputs": [],
   "source": [
    "from sklearn.metrics import precision_score, make_scorer\n",
    "pre_scorer = make_scorer(score_func=precision_score,\n",
    "                        pos_label=1,\n",
    "                        greater_is_better=True,\n",
    "                        average='micro')"
   ]
  },
  {
   "cell_type": "code",
   "execution_count": null,
   "metadata": {
    "collapsed": true
   },
   "outputs": [],
   "source": []
  }
 ],
 "metadata": {
  "kernelspec": {
   "display_name": "Python 3",
   "language": "python",
   "name": "python3"
  },
  "language_info": {
   "codemirror_mode": {
    "name": "ipython",
    "version": 3
   },
   "file_extension": ".py",
   "mimetype": "text/x-python",
   "name": "python",
   "nbconvert_exporter": "python",
   "pygments_lexer": "ipython3",
   "version": "3.5.2"
  }
 },
 "nbformat": 4,
 "nbformat_minor": 1
}

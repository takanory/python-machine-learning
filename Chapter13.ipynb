{
 "cells": [
  {
   "cell_type": "markdown",
   "metadata": {},
   "source": [
    "# 第13章 ニューラルネットワーク\n",
    "\n",
    "- https://github.com/rasbt/python-machine-learning-book/tree/master/code/ch13\n",
    "- Theano を使って最適化された機械学習コードを作成する\n",
    "  - http://deeplearning.net/software/theano/\n",
    "- 人工ニューラルネットワークの活性化関数を選択する\n",
    "- すばやく簡単に実験を行うためにディープラーニングライブラリ Keras を使用する\n",
    "  - https://keras.io/ , https://keras.io/ja/\n",
    "  \n",
    "## 13.1 Theano を使った式の構築、コンパイル、実行\n",
    "\n",
    "### 13.1.1 Theano とは何か\n",
    "\n",
    "### 13.1.2 はじめてのTheano"
   ]
  },
  {
   "cell_type": "code",
   "execution_count": null,
   "metadata": {
    "collapsed": true
   },
   "outputs": [],
   "source": []
  }
 ],
 "metadata": {
  "kernelspec": {
   "display_name": "Python 3",
   "language": "python",
   "name": "python3"
  },
  "language_info": {
   "codemirror_mode": {
    "name": "ipython",
    "version": 3
   },
   "file_extension": ".py",
   "mimetype": "text/x-python",
   "name": "python",
   "nbconvert_exporter": "python",
   "pygments_lexer": "ipython3",
   "version": "3.5.2"
  }
 },
 "nbformat": 4,
 "nbformat_minor": 1
}

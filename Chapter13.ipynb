{
 "cells": [
  {
   "cell_type": "markdown",
   "metadata": {},
   "source": [
    "# 第13章 ニューラルネットワーク\n",
    "\n",
    "- 著者オリジナル: https://github.com/rasbt/python-machine-learning-book/blob/master/code/ch13/ch13.ipynb\n",
    "- Theano を使って最適化された機械学習コードを作成する\n",
    "  - http://deeplearning.net/software/theano/\n",
    "- 人工ニューラルネットワークの活性化関数を選択する\n",
    "- すばやく簡単に実験を行うためにディープラーニングライブラリ Keras を使用する\n",
    "  - https://keras.io/ , https://keras.io/ja/\n",
    "  \n",
    "## 13.1 Theano を使った式の構築、コンパイル、実行\n",
    "\n",
    "### 13.1.1 Theano とは何か\n",
    "\n",
    "### 13.1.2 はじめてのTheano\n",
    "\n",
    "```\n",
    "$ pip install Theano\n",
    "```"
   ]
  },
  {
   "cell_type": "code",
   "execution_count": 1,
   "metadata": {
    "collapsed": false
   },
   "outputs": [
    {
     "data": {
      "text/plain": [
       "array(2.5)"
      ]
     },
     "execution_count": 1,
     "metadata": {},
     "output_type": "execute_result"
    }
   ],
   "source": [
    "import theano\n",
    "from theano import tensor as T\n",
    "\n",
    "# 初期化: scalar メソッドではスカラー(単純な配列)を生成\n",
    "x1 = T.scalar()\n",
    "w1 = T.scalar()\n",
    "w0 = T.scalar()\n",
    "z1 = w1 * x1 + w0\n",
    "\n",
    "# コンパイル\n",
    "net_input = theano.function(inputs=[w1, x1, w0], outputs=z1)\n",
    "\n",
    "# 実行\n",
    "net_input(2.0, 1.0, 0.5)"
   ]
  },
  {
   "cell_type": "markdown",
   "metadata": {},
   "source": [
    "### 13.1.3 Theano を設定する"
   ]
  },
  {
   "cell_type": "code",
   "execution_count": 9,
   "metadata": {
    "collapsed": false
   },
   "outputs": [
    {
     "name": "stdout",
     "output_type": "stream",
     "text": [
      "float32\n",
      "cpu\n"
     ]
    }
   ],
   "source": [
    "# 浮動小数点数の型のデフォルトを確認\n",
    "print(theano.config.floatX)\n",
    "\n",
    "# 浮動小数点数の型を float32 に設定\n",
    "# GPU の場合は float32 にしないといけないらしい\n",
    "theano.config.floatX = 'float32'\n",
    "\n",
    "# CPU と GPU どっちを使うかの設定を確認\n",
    "print(theano.config.device)"
   ]
  },
  {
   "cell_type": "markdown",
   "metadata": {},
   "source": [
    "- 環境変数で設定の変更が可能\n",
    "\n",
    "```\n",
    "export THEANO_FLAGS=floatX=float32\n",
    "```\n",
    "\n",
    "- cpuを使って計算する場合\n",
    "\n",
    "```\n",
    "THEANO_FLAGS=device=cpu,floatX=float64 python <pythonスクリプト>\n",
    "```\n",
    "\n",
    "- gpuを使う場合\n",
    "\n",
    "```\n",
    "THEANO_FLAGS=device=gpu,floatX=float32 python <pythonスクリプト>\n",
    "```\n",
    "\n",
    "- ~/.theanorc ファイルにデフォルト設定を書くことも可能\n",
    "\n",
    "```\n",
    "[global]\n",
    "floatX=float32\n",
    "device-gpu\n",
    "```"
   ]
  },
  {
   "cell_type": "markdown",
   "metadata": {},
   "source": [
    "### 13.1.4 配列構造を操作する"
   ]
  },
  {
   "cell_type": "code",
   "execution_count": 12,
   "metadata": {
    "collapsed": false
   },
   "outputs": [
    {
     "name": "stdout",
     "output_type": "stream",
     "text": [
      "Column sum: [ 2.  4.  6.]\n",
      "Column sum: [ 2.  4.  6.]\n"
     ]
    }
   ],
   "source": [
    "import numpy as np\n",
    "\n",
    "# 初期化\n",
    "# Theanoを64ビットモードで実行している場合は、fmatrixの代わりにdmatrixを使用する必要がある\n",
    "x = T.fmatrix(name='x')\n",
    "x_sum = T.sum(x, axis=0)\n",
    "\n",
    "# コンパイル\n",
    "calc_sum = theano.function(inputs=[x], outputs=x_sum)\n",
    "\n",
    "# 実行(Pythonリスト)\n",
    "ary = [[1, 2, 3], [1, 2, 3]]\n",
    "print('Column sum:', calc_sum(ary))\n",
    "\n",
    "# 実行(Numpy配列)\n",
    "ary = np.array([[1, 2, 3], [1, 2, 3]], dtype=theano.config.floatX)\n",
    "print('Column sum:', calc_sum(ary))"
   ]
  },
  {
   "cell_type": "code",
   "execution_count": 15,
   "metadata": {
    "collapsed": false
   },
   "outputs": [
    {
     "name": "stdout",
     "output_type": "stream",
     "text": [
      "z0: [[ 0.]]\n",
      "z1: [[ 6.]]\n",
      "z2: [[ 12.]]\n",
      "z3: [[ 18.]]\n",
      "z4: [[ 24.]]\n"
     ]
    }
   ],
   "source": [
    "import theano\n",
    "from theano import tensor as T\n",
    "\n",
    "# 初期化\n",
    "x = T.fmatrix('x')\n",
    "w = theano.shared(np.asarray([[0.0, 0.0, 0.0]], dtype=theano.config.floatX))\n",
    "z = x.dot(w.T)\n",
    "update = [[w, w + 1.0]]\n",
    "\n",
    "# コンパイル\n",
    "net_input = theano.function(inputs=[x], updates=update, outputs=z)\n",
    "\n",
    "# 実行\n",
    "data = np.array([[1, 2, 3]], dtype=theano.config.floatX)\n",
    "for i in range(5):\n",
    "    print('z{}:'.format(i), net_input(data))"
   ]
  },
  {
   "cell_type": "code",
   "execution_count": null,
   "metadata": {
    "collapsed": true
   },
   "outputs": [],
   "source": []
  }
 ],
 "metadata": {
  "kernelspec": {
   "display_name": "Python 3",
   "language": "python",
   "name": "python3"
  },
  "language_info": {
   "codemirror_mode": {
    "name": "ipython",
    "version": 3
   },
   "file_extension": ".py",
   "mimetype": "text/x-python",
   "name": "python",
   "nbconvert_exporter": "python",
   "pygments_lexer": "ipython3",
   "version": "3.5.2"
  }
 },
 "nbformat": 4,
 "nbformat_minor": 1
}

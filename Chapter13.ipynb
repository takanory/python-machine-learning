{
 "cells": [
  {
   "cell_type": "markdown",
   "metadata": {},
   "source": [
    "# 第13章 ニューラルネットワーク\n",
    "\n",
    "- 著者オリジナル: https://github.com/rasbt/python-machine-learning-book/blob/master/code/ch13/ch13.ipynb\n",
    "- Theano を使って最適化された機械学習コードを作成する\n",
    "  - http://deeplearning.net/software/theano/\n",
    "- 人工ニューラルネットワークの活性化関数を選択する\n",
    "- すばやく簡単に実験を行うためにディープラーニングライブラリ Keras を使用する\n",
    "  - https://keras.io/ , https://keras.io/ja/\n",
    "  \n",
    "## 13.1 Theano を使った式の構築、コンパイル、実行\n",
    "\n",
    "### 13.1.1 Theano とは何か\n",
    "\n",
    "### 13.1.2 はじめてのTheano\n",
    "\n",
    "```\n",
    "$ pip install Theano\n",
    "```"
   ]
  },
  {
   "cell_type": "code",
   "execution_count": 16,
   "metadata": {
    "collapsed": false
   },
   "outputs": [
    {
     "data": {
      "text/plain": [
       "array(2.5)"
      ]
     },
     "execution_count": 16,
     "metadata": {},
     "output_type": "execute_result"
    }
   ],
   "source": [
    "import theano\n",
    "from theano import tensor as T\n",
    "\n",
    "# 初期化: scalar メソッドではスカラー(単純な配列)を生成\n",
    "x1 = T.scalar()\n",
    "w1 = T.scalar()\n",
    "w0 = T.scalar()\n",
    "z1 = w1 * x1 + w0\n",
    "\n",
    "# コンパイル\n",
    "net_input = theano.function(inputs=[w1, x1, w0], outputs=z1)\n",
    "\n",
    "# 実行\n",
    "net_input(2.0, 1.0, 0.5)"
   ]
  },
  {
   "cell_type": "markdown",
   "metadata": {},
   "source": [
    "### 13.1.3 Theano を設定する"
   ]
  },
  {
   "cell_type": "code",
   "execution_count": 17,
   "metadata": {
    "collapsed": false
   },
   "outputs": [
    {
     "name": "stdout",
     "output_type": "stream",
     "text": [
      "float64\n",
      "cpu\n"
     ]
    }
   ],
   "source": [
    "# 浮動小数点数の型のデフォルトを確認\n",
    "print(theano.config.floatX)\n",
    "\n",
    "# 浮動小数点数の型を float32 に設定\n",
    "# GPU の場合は float32 にしないといけないらしい\n",
    "theano.config.floatX = 'float32'\n",
    "\n",
    "# CPU と GPU どっちを使うかの設定を確認\n",
    "print(theano.config.device)"
   ]
  },
  {
   "cell_type": "markdown",
   "metadata": {},
   "source": [
    "- 環境変数で設定の変更が可能\n",
    "\n",
    "```\n",
    "export THEANO_FLAGS=floatX=float32\n",
    "```\n",
    "\n",
    "- cpuを使って計算する場合\n",
    "\n",
    "```\n",
    "THEANO_FLAGS=device=cpu,floatX=float64 python <pythonスクリプト>\n",
    "```\n",
    "\n",
    "- gpuを使う場合\n",
    "\n",
    "```\n",
    "THEANO_FLAGS=device=gpu,floatX=float32 python <pythonスクリプト>\n",
    "```\n",
    "\n",
    "- ~/.theanorc ファイルにデフォルト設定を書くことも可能\n",
    "\n",
    "```\n",
    "[global]\n",
    "floatX=float32\n",
    "device-gpu\n",
    "```"
   ]
  },
  {
   "cell_type": "markdown",
   "metadata": {},
   "source": [
    "### 13.1.4 配列構造を操作する"
   ]
  },
  {
   "cell_type": "code",
   "execution_count": 18,
   "metadata": {
    "collapsed": false
   },
   "outputs": [
    {
     "name": "stdout",
     "output_type": "stream",
     "text": [
      "Column sum: [ 2.  4.  6.]\n",
      "Column sum: [ 2.  4.  6.]\n"
     ]
    }
   ],
   "source": [
    "import numpy as np\n",
    "\n",
    "# 初期化\n",
    "# Theanoを64ビットモードで実行している場合は、fmatrixの代わりにdmatrixを使用する必要がある\n",
    "x = T.fmatrix(name='x')\n",
    "x_sum = T.sum(x, axis=0)\n",
    "\n",
    "# コンパイル\n",
    "calc_sum = theano.function(inputs=[x], outputs=x_sum)\n",
    "\n",
    "# 実行(Pythonリスト)\n",
    "ary = [[1, 2, 3], [1, 2, 3]]\n",
    "print('Column sum:', calc_sum(ary))\n",
    "\n",
    "# 実行(Numpy配列)\n",
    "ary = np.array([[1, 2, 3], [1, 2, 3]], dtype=theano.config.floatX)\n",
    "print('Column sum:', calc_sum(ary))"
   ]
  },
  {
   "cell_type": "code",
   "execution_count": 21,
   "metadata": {
    "collapsed": false
   },
   "outputs": [
    {
     "name": "stdout",
     "output_type": "stream",
     "text": [
      "z0: [[ 0.]]\n",
      "z1: [[ 6.]]\n",
      "z2: [[ 12.]]\n",
      "z3: [[ 18.]]\n",
      "z4: [[ 24.]]\n"
     ]
    }
   ],
   "source": [
    "import theano\n",
    "from theano import tensor as T\n",
    "\n",
    "# 初期化\n",
    "x = T.fmatrix('x')\n",
    "w = theano.shared(np.asarray([[0.0, 0.0, 0.0]], dtype=theano.config.floatX))\n",
    "z = x.dot(w.T)\n",
    "update = [[w, w + 1.0]]\n",
    "\n",
    "# コンパイル\n",
    "net_input = theano.function(inputs=[x], updates=update, outputs=z)\n",
    "\n",
    "# 実行\n",
    "data = np.array([[1, 2, 3]], dtype=theano.config.floatX)\n",
    "for i in range(5):\n",
    "    print('z{}:'.format(i), net_input(data))"
   ]
  },
  {
   "cell_type": "code",
   "execution_count": 22,
   "metadata": {
    "collapsed": false
   },
   "outputs": [
    {
     "name": "stdout",
     "output_type": "stream",
     "text": [
      "z0: [[ 0.]]\n",
      "z1: [[ 6.]]\n",
      "z2: [[ 12.]]\n",
      "z3: [[ 18.]]\n",
      "z4: [[ 24.]]\n"
     ]
    }
   ],
   "source": [
    "import theano\n",
    "from theano import tensor as T\n",
    "\n",
    "# 初期化\n",
    "data = np.array([[1, 2, 3]], dtype=theano.config.floatX)\n",
    "x = T.fmatrix('x')\n",
    "w = theano.shared(np.asarray([[0.0, 0.0, 0.0]], dtype=theano.config.floatX))\n",
    "z = x.dot(w.T)\n",
    "update = [[w, w + 1.0]]\n",
    "\n",
    "# コンパイル\n",
    "net_input = theano.function(inputs=[], updates=update, givens={x: data}, outputs=z)\n",
    "\n",
    "# 実行\n",
    "for i in range(5):\n",
    "    print('z{}:'.format(i), net_input())"
   ]
  },
  {
   "cell_type": "markdown",
   "metadata": {},
   "source": [
    "### 13.1.5 線形回帰の例"
   ]
  },
  {
   "cell_type": "code",
   "execution_count": 23,
   "metadata": {
    "collapsed": true
   },
   "outputs": [],
   "source": [
    "import numpy as np\n",
    "# 10個のトレーニングサンプルが含まれた、1次元のデータセットを作成する\n",
    "X_train = np.asarray([[0.0], [1.0], [2.0], [3.0], [4.0],\n",
    "                      [5.0], [6.0], [7.0], [8.0], [9.0]], \n",
    "                     dtype=theano.config.floatX)\n",
    "\n",
    "y_train = np.asarray([1.0, 1.3, 3.1, 2.0, 5.0, \n",
    "                      6.3, 6.6, 7.4, 8.0, 9.0], \n",
    "                     dtype=theano.config.floatX)"
   ]
  },
  {
   "cell_type": "code",
   "execution_count": 24,
   "metadata": {
    "collapsed": false
   },
   "outputs": [],
   "source": [
    "import theano\n",
    "from theano import tensor as T\n",
    "import numpy as np\n",
    "\n",
    "def training_linreg(X_train, y_train, eta, epochs):\n",
    "    costs = []\n",
    "    # 配列の初期化\n",
    "    eta0 = T.fscalar('eta0') # float32型のスカラーのインスタンス\n",
    "    y = T.fvector(name='y') # float32型のベクトルのインスタンス\n",
    "    X = T.fmatrix(name='X') # float32型の行列のインスタンス\n",
    "    # 重み w を関数内で参照可能な共有変数として作成\n",
    "    w = theano.shared(np.zeros(shape=(X_train.shape[1] + 1), dtype=theano.config.floatX), name='w')\n",
    "    \n",
    "    # コストの計算\n",
    "    net_input = T.dot(X, w[1:]) + w[0] # 重みを用いて総入力を計算\n",
    "    errors = y - net_input # yと総入力の誤差\n",
    "    cost = T.sum(T.pow(errors, 2)) # 誤差との2重和\n",
    "    \n",
    "    # 重みの更新\n",
    "    gradient = T.grad(cost, wrt=w) # コストの勾配\n",
    "    update = [(w, w - eta0 * gradient)] # コストの勾配に学習率をかけて、重み w を更新\n",
    "    \n",
    "    # モデルのコンパイル\n",
    "    train = theano.function(inputs=[eta0], outputs=cost, updates=update, givens={X: X_train, y: y_train})\n",
    "    \n",
    "    for _ in range(epochs):\n",
    "        costs.append(train(eta))\n",
    "        \n",
    "    return costs, w"
   ]
  },
  {
   "cell_type": "code",
   "execution_count": 25,
   "metadata": {
    "collapsed": false
   },
   "outputs": [
    {
     "data": {
      "image/png": "[encoded data removed]",
      "text/plain": [
       "<matplotlib.figure.Figure at 0x1077a4c18>"
      ]
     },
     "metadata": {},
     "output_type": "display_data"
    }
   ],
   "source": [
    "import matplotlib.pyplot as plt\n",
    "costs, w = training_linreg(X_train, y_train, eta=0.001, epochs=10)\n",
    "\n",
    "plt.plot(range(1, len(costs) + 1), costs)\n",
    "plt.xlabel('Epochs')\n",
    "plt.ylabel('Cost')\n",
    "plt.tight_layout()\n",
    "plt.show()"
   ]
  },
  {
   "cell_type": "code",
   "execution_count": 26,
   "metadata": {
    "collapsed": true
   },
   "outputs": [],
   "source": [
    "# 入力特徴量に基づいて予測する\n",
    "def predict_linreg(X, w):\n",
    "    Xt = T.matrix(name='X')\n",
    "    net_input = T.dot(Xt, w[1:]) + w[0]\n",
    "    predict = theano.function(inputs=[Xt], givens={w: w}, outputs=net_input)\n",
    "    \n",
    "    return predict(X)\n"
   ]
  },
  {
   "cell_type": "code",
   "execution_count": 27,
   "metadata": {
    "collapsed": false
   },
   "outputs": [
    {
     "data": {
      "image/png": "[encoded data removed]",
      "text/plain": [
       "<matplotlib.figure.Figure at 0x108c21c50>"
      ]
     },
     "metadata": {},
     "output_type": "display_data"
    }
   ],
   "source": [
    "import matplotlib.pyplot as plt\n",
    "plt.scatter(X_train, y_train, marker='s', s=50)\n",
    "plt.plot(range(X_train.shape[0]), predict_linreg(X_train, w), color='gray', marker='o', markersize=4, linewidth=3)\n",
    "plt.xlabel('x')\n",
    "plt.ylabel('y')\n",
    "plt.show()"
   ]
  },
  {
   "cell_type": "markdown",
   "metadata": {
    "collapsed": true
   },
   "source": [
    "## 13.2 フィードフォワードニューラルネットワークでの活性化関数の選択\n",
    "\n",
    "### 13.2.1 ロジスティック関数のまとめ"
   ]
  },
  {
   "cell_type": "code",
   "execution_count": 8,
   "metadata": {
    "collapsed": false
   },
   "outputs": [
    {
     "name": "stdout",
     "output_type": "stream",
     "text": [
      "0.706822221094\n",
      "P(y=1|x) = 0.707\n"
     ]
    }
   ],
   "source": [
    "import numpy as np\n",
    "\n",
    "X = np.array([[1, 1.4, 1.5]])\n",
    "w = np.array([0.0, 0.2, 0.4])\n",
    "\n",
    "def net_input(X, w):\n",
    "    z = X.dot(w)\n",
    "    return z\n",
    "\n",
    "def logistic(z):\n",
    "    return 1.0 / (1.0 + np.exp(-z))\n",
    "\n",
    "def logistic_activation(X, w):\n",
    "    z = net_input(X, w)\n",
    "    return logistic(z)\n",
    "print('P(y=1|x) = {:.3f}'.format(logistic_activation(X, w)[0]))"
   ]
  },
  {
   "cell_type": "code",
   "execution_count": 9,
   "metadata": {
    "collapsed": false
   },
   "outputs": [
    {
     "name": "stdout",
     "output_type": "stream",
     "text": [
      "Probabilities:\n",
      " [[ 0.87653295]\n",
      " [ 0.57688526]\n",
      " [ 0.90114393]]\n"
     ]
    }
   ],
   "source": [
    "# W : array, shape = [n_output_units, n_hidden_units+1]\n",
    "# 隠れ層 -> 出力層の重み行列\n",
    "# 最初の列 (W[:][0]) がバイアスユニットであることに注意\n",
    "W = np.array([[1.1, 1.2, 1.3, 0.5],\n",
    "              [0.1, 0.2, 0.4, 0.1],\n",
    "              [0.2, 0.5, 2.1, 1.9]])\n",
    "\n",
    "# A : array, shape = [n_hidden+1, n_samples]\n",
    "# 各礼装の活性化\n",
    "# 最初の要素 (A[0][0] = 1) がバイアスユニットであることに注意\n",
    "\n",
    "A = np.array([[1.0], \n",
    "              [0.1], \n",
    "              [0.3], \n",
    "              [0.7]])\n",
    "\n",
    "# Z : array, shape = [n_output_units, n_samples]\n",
    "# 出力層の総入力\n",
    "\n",
    "Z = W.dot(A) \n",
    "y_probas = logistic(Z)\n",
    "print('Probabilities:\\n', y_probas)"
   ]
  },
  {
   "cell_type": "code",
   "execution_count": 10,
   "metadata": {
    "collapsed": false
   },
   "outputs": [
    {
     "name": "stdout",
     "output_type": "stream",
     "text": [
      "predicted class label: 2\n"
     ]
    }
   ],
   "source": [
    "y_class = np.argmax(Z, axis=0)\n",
    "print('predicted class label: %d' % y_class[0])"
   ]
  },
  {
   "cell_type": "markdown",
   "metadata": {},
   "source": [
    "### 13.2.2 ソフトマックス関数を使って多クラス分類の確率を推定する"
   ]
  },
  {
   "cell_type": "code",
   "execution_count": 28,
   "metadata": {
    "collapsed": false
   },
   "outputs": [
    {
     "name": "stdout",
     "output_type": "stream",
     "text": [
      "[[ 0.40386493]\n",
      " [ 0.07756222]\n",
      " [ 0.51857284]]\n",
      "1.0\n"
     ]
    }
   ],
   "source": [
    "def softmax(z):\n",
    "    return np.exp(z) / np.sum(np.exp(z))\n",
    "\n",
    "def sotmax_activation(X, w):\n",
    "    z = net_input(X, w)\n",
    "    return softmax(z)\n",
    "\n",
    "y_probas = softmax(Z)\n",
    "print(y_probas)\n",
    "print(y_probas.sum())"
   ]
  },
  {
   "cell_type": "code",
   "execution_count": 31,
   "metadata": {
    "collapsed": false
   },
   "outputs": [
    {
     "data": {
      "text/plain": [
       "2"
      ]
     },
     "execution_count": 31,
     "metadata": {},
     "output_type": "execute_result"
    }
   ],
   "source": [
    "y_class = np.argmax(Z, axis=0)\n",
    "y_class[0]"
   ]
  },
  {
   "cell_type": "markdown",
   "metadata": {},
   "source": [
    "### 双曲線正接関数を使って出力範囲を拡大する\n",
    "\n",
    "* 双曲線正接関数(hyperbolic tangent: tanh)"
   ]
  },
  {
   "cell_type": "markdown",
   "metadata": {},
   "source": [
    "# 13.3 Kerasを使ったニューラルネットワークの効率的なトレーニング\n",
    "\n",
    "```\n",
    "pip install Keras\n",
    "```\n",
    "\n",
    "- MNIST データセット http://yann.lecun.com/exdb/mnist/\n",
    "  - train-images-idx3-ubyte.gz: training set images (9,912,422 bytes)\n",
    "  - train-labels-idx1-ubyte.gz: training set labels (28,881 bytes)\n",
    "  - t10k-images-idx3-ubyte.gz: test set images (1,648,877 bytes)\n",
    "  - t10k-labels-idx1-ubyte.gz: test set labels (4,542 bytes)\n"
   ]
  },
  {
   "cell_type": "code",
   "execution_count": 32,
   "metadata": {
    "collapsed": true
   },
   "outputs": [],
   "source": [
    "import os\n",
    "import struct\n",
    "import numpy as np\n",
    " \n",
    "def load_mnist(path, kind='train'):\n",
    "    \"\"\"Load MNIST data from `path`\"\"\"\n",
    "    labels_path = os.path.join(path, \n",
    "                               '%s-labels-idx1-ubyte' % kind)\n",
    "    images_path = os.path.join(path, \n",
    "                               '%s-images-idx3-ubyte' % kind)\n",
    "        \n",
    "    with open(labels_path, 'rb') as lbpath:\n",
    "        magic, n = struct.unpack('>II', \n",
    "                                 lbpath.read(8))\n",
    "        labels = np.fromfile(lbpath, \n",
    "                             dtype=np.uint8)\n",
    "\n",
    "    with open(images_path, 'rb') as imgpath:\n",
    "        magic, num, rows, cols = struct.unpack(\">IIII\", \n",
    "                                               imgpath.read(16))\n",
    "        images = np.fromfile(imgpath, \n",
    "                             dtype=np.uint8).reshape(len(labels), 784)\n",
    " \n",
    "    return images, labels"
   ]
  },
  {
   "cell_type": "code",
   "execution_count": 34,
   "metadata": {
    "collapsed": false
   },
   "outputs": [
    {
     "name": "stdout",
     "output_type": "stream",
     "text": [
      "Rows: 60000, columns: 784\n"
     ]
    }
   ],
   "source": [
    "X_train, y_train = load_mnist('mnist', kind='train')\n",
    "print('Rows: %d, columns: %d' % (X_train.shape[0], X_train.shape[1]))"
   ]
  },
  {
   "cell_type": "code",
   "execution_count": 35,
   "metadata": {
    "collapsed": false
   },
   "outputs": [
    {
     "name": "stdout",
     "output_type": "stream",
     "text": [
      "Rows: 10000, columns: 784\n"
     ]
    }
   ],
   "source": [
    "X_test, y_test = load_mnist('mnist', kind='t10k')\n",
    "print('Rows: %d, columns: %d' % (X_test.shape[0], X_test.shape[1]))"
   ]
  },
  {
   "cell_type": "code",
   "execution_count": 36,
   "metadata": {
    "collapsed": true
   },
   "outputs": [],
   "source": [
    "import theano \n",
    "\n",
    "theano.config.floatX = 'float32'\n",
    "X_train = X_train.astype(theano.config.floatX)\n",
    "X_test = X_test.astype(theano.config.floatX)"
   ]
  },
  {
   "cell_type": "markdown",
   "metadata": {},
   "source": [
    "* Mac でバックエンドを theano にするために `~/.keras/keras.json` を書き換える\n",
    "* 参考: [バックエンド - Keras Documentation](https://keras.io/ja/backend/ \"バックエンド - Keras Documentation\")"
   ]
  },
  {
   "cell_type": "code",
   "execution_count": 38,
   "metadata": {
    "collapsed": false
   },
   "outputs": [
    {
     "name": "stderr",
     "output_type": "stream",
     "text": [
      "Using Theano backend.\n"
     ]
    },
    {
     "name": "stdout",
     "output_type": "stream",
     "text": [
      "First 3 labels:  [5 0 4]\n",
      "\n",
      "First 3 labels (one-hot):\n",
      " [[ 0.  0.  0.  0.  0.  1.  0.  0.  0.  0.]\n",
      " [ 1.  0.  0.  0.  0.  0.  0.  0.  0.  0.]\n",
      " [ 0.  0.  0.  0.  1.  0.  0.  0.  0.  0.]]\n"
     ]
    }
   ],
   "source": [
    "from keras.utils import np_utils\n",
    "\n",
    "print('First 3 labels: ', y_train[:3])\n",
    "\n",
    "y_train_ohe = np_utils.to_categorical(y_train) \n",
    "print('\\nFirst 3 labels (one-hot):\\n', y_train_ohe[:3])"
   ]
  },
  {
   "cell_type": "code",
   "execution_count": 44,
   "metadata": {
    "collapsed": true
   },
   "outputs": [],
   "source": [
    "from keras.models import Sequential\n",
    "from keras.layers.core import Dense\n",
    "from keras.optimizers import SGD\n",
    "\n",
    "np.random.seed(1) \n",
    "\n",
    "# モデルを初期化\n",
    "model = Sequential()\n",
    "\n",
    "# 1つ目の隠れ層を追加\n",
    "model.add(Dense(input_dim=X_train.shape[1], # 入力ユニット数\n",
    "                output_dim=50, # 出力ユニット数\n",
    "                init='uniform', # 重みを一様乱数で初期化\n",
    "                activation='tanh')) # 活性化関数(双曲線正接関数)\n",
    "\n",
    "# 2つ目の隠れ層を追加\n",
    "model.add(Dense(input_dim=50, \n",
    "                output_dim=50, \n",
    "                init='uniform', \n",
    "                activation='tanh'))\n",
    "\n",
    "# 出力層を追加\n",
    "model.add(Dense(input_dim=50, \n",
    "                output_dim=y_train_ohe.shape[1], \n",
    "                init='uniform', \n",
    "                activation='softmax'))\n",
    "\n",
    "# モデルコンパイル時のオプティマイザを設定\n",
    "# SGD: 確率的勾配降下法\n",
    "# 引数に学習率、荷重減衰定数、モーメンタム学習を設定\n",
    "sgd = SGD(lr=0.001, decay=1e-7, momentum=.9)\n",
    "# モデルをコンパイル\n",
    "model.compile(loss='categorical_crossentropy', # コスト関数\n",
    "              optimizer=sgd) # オプティマイザ\n"
   ]
  },
  {
   "cell_type": "code",
   "execution_count": 45,
   "metadata": {
    "collapsed": false
   },
   "outputs": [
    {
     "name": "stderr",
     "output_type": "stream",
     "text": [
      "/Users/takanori/Private/python-machine-learning/venv/lib/python3.5/site-packages/keras/models.py:635: UserWarning: The \"show_accuracy\" argument is deprecated, instead you should pass the \"accuracy\" metric to the model at compile time:\n",
      "`model.compile(optimizer, loss, metrics=[\"accuracy\"])`\n",
      "  warnings.warn('The \"show_accuracy\" argument is deprecated, '\n"
     ]
    },
    {
     "name": "stdout",
     "output_type": "stream",
     "text": [
      "Train on 54000 samples, validate on 6000 samples\n",
      "Epoch 1/50\n",
      "54000/54000 [==============================] - 1s - loss: 2.2290 - val_loss: 2.1092\n",
      "Epoch 2/50\n",
      "54000/54000 [==============================] - 1s - loss: 1.8848 - val_loss: 1.6075\n",
      "Epoch 3/50\n",
      "54000/54000 [==============================] - 1s - loss: 1.3915 - val_loss: 1.1670\n",
      "Epoch 4/50\n",
      "54000/54000 [==============================] - 1s - loss: 1.0612 - val_loss: 0.9042\n",
      "Epoch 5/50\n",
      "54000/54000 [==============================] - 0s - loss: 0.8575 - val_loss: 0.7342\n",
      "Epoch 6/50\n",
      "54000/54000 [==============================] - 1s - loss: 0.7237 - val_loss: 0.6145\n",
      "Epoch 7/50\n",
      "54000/54000 [==============================] - 1s - loss: 0.6247 - val_loss: 0.5443\n",
      "Epoch 8/50\n",
      "54000/54000 [==============================] - 1s - loss: 0.5552 - val_loss: 0.4762\n",
      "Epoch 9/50\n",
      "54000/54000 [==============================] - 1s - loss: 0.5000 - val_loss: 0.4247\n",
      "Epoch 10/50\n",
      "54000/54000 [==============================] - 1s - loss: 0.4582 - val_loss: 0.3914\n",
      "Epoch 11/50\n",
      "54000/54000 [==============================] - 1s - loss: 0.4267 - val_loss: 0.3651\n",
      "Epoch 12/50\n",
      "54000/54000 [==============================] - 0s - loss: 0.3994 - val_loss: 0.3357\n",
      "Epoch 13/50\n",
      "54000/54000 [==============================] - 0s - loss: 0.3742 - val_loss: 0.3320\n",
      "Epoch 14/50\n",
      "54000/54000 [==============================] - 1s - loss: 0.3633 - val_loss: 0.3170\n",
      "Epoch 15/50\n",
      "54000/54000 [==============================] - 0s - loss: 0.3464 - val_loss: 0.2985\n",
      "Epoch 16/50\n",
      "54000/54000 [==============================] - 0s - loss: 0.3372 - val_loss: 0.2878\n",
      "Epoch 17/50\n",
      "54000/54000 [==============================] - 1s - loss: 0.3253 - val_loss: 0.2899\n",
      "Epoch 18/50\n",
      "54000/54000 [==============================] - 1s - loss: 0.3214 - val_loss: 0.2739\n",
      "Epoch 19/50\n",
      "54000/54000 [==============================] - 1s - loss: 0.3076 - val_loss: 0.2612\n",
      "Epoch 20/50\n",
      "54000/54000 [==============================] - 1s - loss: 0.2962 - val_loss: 0.2515\n",
      "Epoch 21/50\n",
      "54000/54000 [==============================] - 1s - loss: 0.2946 - val_loss: 0.2513\n",
      "Epoch 22/50\n",
      "54000/54000 [==============================] - 1s - loss: 0.2830 - val_loss: 0.2571\n",
      "Epoch 23/50\n",
      "54000/54000 [==============================] - 1s - loss: 0.2803 - val_loss: 0.2499\n",
      "Epoch 24/50\n",
      "54000/54000 [==============================] - 1s - loss: 0.2758 - val_loss: 0.2549\n",
      "Epoch 25/50\n",
      "54000/54000 [==============================] - 1s - loss: 0.2699 - val_loss: 0.2251\n",
      "Epoch 26/50\n",
      "54000/54000 [==============================] - 1s - loss: 0.2601 - val_loss: 0.2321\n",
      "Epoch 27/50\n",
      "54000/54000 [==============================] - 0s - loss: 0.2613 - val_loss: 0.2215\n",
      "Epoch 28/50\n",
      "54000/54000 [==============================] - 0s - loss: 0.2697 - val_loss: 0.2310\n",
      "Epoch 29/50\n",
      "54000/54000 [==============================] - 0s - loss: 0.2574 - val_loss: 0.2257\n",
      "Epoch 30/50\n",
      "54000/54000 [==============================] - 0s - loss: 0.2586 - val_loss: 0.2197\n",
      "Epoch 31/50\n",
      "54000/54000 [==============================] - 0s - loss: 0.2531 - val_loss: 0.2132\n",
      "Epoch 32/50\n",
      "54000/54000 [==============================] - 0s - loss: 0.2447 - val_loss: 0.2244\n",
      "Epoch 33/50\n",
      "54000/54000 [==============================] - 1s - loss: 0.2495 - val_loss: 0.2131\n",
      "Epoch 34/50\n",
      "54000/54000 [==============================] - 0s - loss: 0.2444 - val_loss: 0.2160\n",
      "Epoch 35/50\n",
      "54000/54000 [==============================] - 0s - loss: 0.2413 - val_loss: 0.2132\n",
      "Epoch 36/50\n",
      "54000/54000 [==============================] - 0s - loss: 0.2377 - val_loss: 0.2226\n",
      "Epoch 37/50\n",
      "54000/54000 [==============================] - 0s - loss: 0.2327 - val_loss: 0.2059\n",
      "Epoch 38/50\n",
      "54000/54000 [==============================] - 0s - loss: 0.2288 - val_loss: 0.2188\n",
      "Epoch 39/50\n",
      "54000/54000 [==============================] - 0s - loss: 0.2339 - val_loss: 0.2035\n",
      "Epoch 40/50\n",
      "54000/54000 [==============================] - 0s - loss: 0.2183 - val_loss: 0.1975\n",
      "Epoch 41/50\n",
      "54000/54000 [==============================] - 0s - loss: 0.2266 - val_loss: 0.2092\n",
      "Epoch 42/50\n",
      "54000/54000 [==============================] - 0s - loss: 0.2182 - val_loss: 0.1980\n",
      "Epoch 43/50\n",
      "54000/54000 [==============================] - 0s - loss: 0.2193 - val_loss: 0.1987\n",
      "Epoch 44/50\n",
      "54000/54000 [==============================] - 0s - loss: 0.2146 - val_loss: 0.1945\n",
      "Epoch 45/50\n",
      "54000/54000 [==============================] - 0s - loss: 0.2119 - val_loss: 0.1890\n",
      "Epoch 46/50\n",
      "54000/54000 [==============================] - 0s - loss: 0.2108 - val_loss: 0.1964\n",
      "Epoch 47/50\n",
      "54000/54000 [==============================] - 0s - loss: 0.2130 - val_loss: 0.1955\n",
      "Epoch 48/50\n",
      "54000/54000 [==============================] - 0s - loss: 0.2118 - val_loss: 0.1985\n",
      "Epoch 49/50\n",
      "54000/54000 [==============================] - 1s - loss: 0.2149 - val_loss: 0.1947\n",
      "Epoch 50/50\n",
      "54000/54000 [==============================] - 0s - loss: 0.2133 - val_loss: 0.1976\n"
     ]
    },
    {
     "data": {
      "text/plain": [
       "<keras.callbacks.History at 0x11967aeb8>"
      ]
     },
     "execution_count": 45,
     "metadata": {},
     "output_type": "execute_result"
    }
   ],
   "source": [
    "model.fit(X_train, # トレーニングデータ\n",
    "          y_train_ohe, # 出力データ\n",
    "          nb_epoch=50, # エポック数\n",
    "          batch_size=300, # バッチサイズ\n",
    "          verbose=1,  # 実行時にメッセージを出力\n",
    "          validation_split=0.1, # 検証用データの割合\n",
    "          show_accuracy=True) "
   ]
  },
  {
   "cell_type": "code",
   "execution_count": 46,
   "metadata": {
    "collapsed": false
   },
   "outputs": [
    {
     "name": "stdout",
     "output_type": "stream",
     "text": [
      "First 3 predictions:  [5 0 4]\n"
     ]
    }
   ],
   "source": [
    "y_train_pred = model.predict_classes(X_train, verbose=0)\n",
    "print('First 3 predictions: ', y_train_pred[:3])"
   ]
  },
  {
   "cell_type": "code",
   "execution_count": 47,
   "metadata": {
    "collapsed": false
   },
   "outputs": [
    {
     "name": "stdout",
     "output_type": "stream",
     "text": [
      "Training accuracy: 93.81%\n"
     ]
    }
   ],
   "source": [
    "train_acc = np.sum(y_train == y_train_pred, axis=0) / X_train.shape[0]\n",
    "print('Training accuracy: %.2f%%' % (train_acc * 100))"
   ]
  },
  {
   "cell_type": "code",
   "execution_count": 48,
   "metadata": {
    "collapsed": false
   },
   "outputs": [
    {
     "name": "stdout",
     "output_type": "stream",
     "text": [
      "Test accuracy: 93.71%\n"
     ]
    }
   ],
   "source": [
    "y_test_pred = model.predict_classes(X_test, verbose=0)\n",
    "test_acc = np.sum(y_test == y_test_pred, axis=0) / X_test.shape[0]\n",
    "print('Test accuracy: %.2f%%' % (test_acc * 100))"
   ]
  },
  {
   "cell_type": "code",
   "execution_count": null,
   "metadata": {
    "collapsed": true
   },
   "outputs": [],
   "source": []
  }
 ],
 "metadata": {
  "kernelspec": {
   "display_name": "Python 3",
   "language": "python",
   "name": "python3"
  },
  "language_info": {
   "codemirror_mode": {
    "name": "ipython",
    "version": 3
   },
   "file_extension": ".py",
   "mimetype": "text/x-python",
   "name": "python",
   "nbconvert_exporter": "python",
   "pygments_lexer": "ipython3",
   "version": "3.5.2"
  }
 },
 "nbformat": 4,
 "nbformat_minor": 1
}

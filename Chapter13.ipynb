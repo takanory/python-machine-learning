{
 "cells": [
  {
   "cell_type": "markdown",
   "metadata": {},
   "source": [
    "# 第13章 ニューラルネットワーク\n",
    "\n",
    "- 著者オリジナル: https://github.com/rasbt/python-machine-learning-book/blob/master/code/ch13/ch13.ipynb\n",
    "- Theano を使って最適化された機械学習コードを作成する\n",
    "  - http://deeplearning.net/software/theano/\n",
    "- 人工ニューラルネットワークの活性化関数を選択する\n",
    "- すばやく簡単に実験を行うためにディープラーニングライブラリ Keras を使用する\n",
    "  - https://keras.io/ , https://keras.io/ja/\n",
    "  \n",
    "## 13.1 Theano を使った式の構築、コンパイル、実行\n",
    "\n",
    "### 13.1.1 Theano とは何か\n",
    "\n",
    "### 13.1.2 はじめてのTheano\n",
    "\n",
    "```\n",
    "$ pip install Theano\n",
    "```"
   ]
  },
  {
   "cell_type": "code",
   "execution_count": 1,
   "metadata": {
    "collapsed": false
   },
   "outputs": [
    {
     "data": {
      "text/plain": [
       "array(2.5)"
      ]
     },
     "execution_count": 1,
     "metadata": {},
     "output_type": "execute_result"
    }
   ],
   "source": [
    "import theano\n",
    "from theano import tensor as T\n",
    "\n",
    "# 初期化: scalar メソッドではスカラー(単純な配列)を生成\n",
    "x1 = T.scalar()\n",
    "w1 = T.scalar()\n",
    "w0 = T.scalar()\n",
    "z1 = w1 * x1 + w0\n",
    "\n",
    "# コンパイル\n",
    "net_input = theano.function(inputs=[w1, x1, w0], outputs=z1)\n",
    "\n",
    "# 実行\n",
    "net_input(2.0, 1.0, 0.5)"
   ]
  },
  {
   "cell_type": "markdown",
   "metadata": {},
   "source": [
    "### 13.1.3 Theano を設定する"
   ]
  },
  {
   "cell_type": "code",
   "execution_count": 9,
   "metadata": {
    "collapsed": false
   },
   "outputs": [
    {
     "name": "stdout",
     "output_type": "stream",
     "text": [
      "float32\n",
      "cpu\n"
     ]
    }
   ],
   "source": [
    "# 浮動小数点数の型のデフォルトを確認\n",
    "print(theano.config.floatX)\n",
    "\n",
    "# 浮動小数点数の型を float32 に設定\n",
    "# GPU の場合は float32 にしないといけないらしい\n",
    "theano.config.floatX = 'float32'\n",
    "\n",
    "# CPU と GPU どっちを使うかの設定を確認\n",
    "print(theano.config.device)"
   ]
  },
  {
   "cell_type": "markdown",
   "metadata": {},
   "source": [
    "- 環境変数で設定の変更が可能\n",
    "\n",
    "```\n",
    "export THEANO_FLAGS=floatX=float32\n",
    "```\n",
    "\n",
    "- cpuを使って計算する場合\n",
    "\n",
    "```\n",
    "THEANO_FLAGS=device=cpu,floatX=float64 python <pythonスクリプト>\n",
    "```\n",
    "\n",
    "- gpuを使う場合\n",
    "\n",
    "```\n",
    "THEANO_FLAGS=device=gpu,floatX=float32 python <pythonスクリプト>\n",
    "```\n",
    "\n",
    "- ~/.theanorc ファイルにデフォルト設定を書くことも可能\n",
    "\n",
    "```\n",
    "[global]\n",
    "floatX=float32\n",
    "device-gpu\n",
    "```"
   ]
  },
  {
   "cell_type": "markdown",
   "metadata": {},
   "source": [
    "### 13.1.4 配列構造を操作する"
   ]
  },
  {
   "cell_type": "code",
   "execution_count": 12,
   "metadata": {
    "collapsed": false
   },
   "outputs": [
    {
     "name": "stdout",
     "output_type": "stream",
     "text": [
      "Column sum: [ 2.  4.  6.]\n",
      "Column sum: [ 2.  4.  6.]\n"
     ]
    }
   ],
   "source": [
    "import numpy as np\n",
    "\n",
    "# 初期化\n",
    "# Theanoを64ビットモードで実行している場合は、fmatrixの代わりにdmatrixを使用する必要がある\n",
    "x = T.fmatrix(name='x')\n",
    "x_sum = T.sum(x, axis=0)\n",
    "\n",
    "# コンパイル\n",
    "calc_sum = theano.function(inputs=[x], outputs=x_sum)\n",
    "\n",
    "# 実行(Pythonリスト)\n",
    "ary = [[1, 2, 3], [1, 2, 3]]\n",
    "print('Column sum:', calc_sum(ary))\n",
    "\n",
    "# 実行(Numpy配列)\n",
    "ary = np.array([[1, 2, 3], [1, 2, 3]], dtype=theano.config.floatX)\n",
    "print('Column sum:', calc_sum(ary))"
   ]
  },
  {
   "cell_type": "code",
   "execution_count": 15,
   "metadata": {
    "collapsed": false
   },
   "outputs": [
    {
     "name": "stdout",
     "output_type": "stream",
     "text": [
      "z0: [[ 0.]]\n",
      "z1: [[ 6.]]\n",
      "z2: [[ 12.]]\n",
      "z3: [[ 18.]]\n",
      "z4: [[ 24.]]\n"
     ]
    }
   ],
   "source": [
    "import theano\n",
    "from theano import tensor as T\n",
    "\n",
    "# 初期化\n",
    "x = T.fmatrix('x')\n",
    "w = theano.shared(np.asarray([[0.0, 0.0, 0.0]], dtype=theano.config.floatX))\n",
    "z = x.dot(w.T)\n",
    "update = [[w, w + 1.0]]\n",
    "\n",
    "# コンパイル\n",
    "net_input = theano.function(inputs=[x], updates=update, outputs=z)\n",
    "\n",
    "# 実行\n",
    "data = np.array([[1, 2, 3]], dtype=theano.config.floatX)\n",
    "for i in range(5):\n",
    "    print('z{}:'.format(i), net_input(data))"
   ]
  },
  {
   "cell_type": "code",
   "execution_count": 17,
   "metadata": {
    "collapsed": false
   },
   "outputs": [
    {
     "name": "stdout",
     "output_type": "stream",
     "text": [
      "z0: [[ 0.]]\n",
      "z1: [[ 6.]]\n",
      "z2: [[ 12.]]\n",
      "z3: [[ 18.]]\n",
      "z4: [[ 24.]]\n"
     ]
    }
   ],
   "source": [
    "import theano\n",
    "from theano import tensor as T\n",
    "\n",
    "# 初期化\n",
    "data = np.array([[1, 2, 3]], dtype=theano.config.floatX)\n",
    "x = T.fmatrix('x')\n",
    "w = theano.shared(np.asarray([[0.0, 0.0, 0.0]], dtype=theano.config.floatX))\n",
    "z = x.dot(w.T)\n",
    "update = [[w, w + 1.0]]\n",
    "\n",
    "# コンパイル\n",
    "net_input = theano.function(inputs=[], updates=update, givens={x: data}, outputs=z)\n",
    "\n",
    "# 実行\n",
    "for i in range(5):\n",
    "    print('z{}:'.format(i), net_input())"
   ]
  },
  {
   "cell_type": "markdown",
   "metadata": {},
   "source": [
    "### 13.1.5 線形回帰の例"
   ]
  },
  {
   "cell_type": "code",
   "execution_count": 18,
   "metadata": {
    "collapsed": true
   },
   "outputs": [],
   "source": [
    "import numpy as np\n",
    "# 10個のトレーニングサンプルが含まれた、1次元のデータセットを作成する\n",
    "X_train = np.asarray([[0.0], [1.0], [2.0], [3.0], [4.0],\n",
    "                      [5.0], [6.0], [7.0], [8.0], [9.0]], \n",
    "                     dtype=theano.config.floatX)\n",
    "\n",
    "y_train = np.asarray([1.0, 1.3, 3.1, 2.0, 5.0, \n",
    "                      6.3, 6.6, 7.4, 8.0, 9.0], \n",
    "                     dtype=theano.config.floatX)"
   ]
  },
  {
   "cell_type": "code",
   "execution_count": 29,
   "metadata": {
    "collapsed": false
   },
   "outputs": [],
   "source": [
    "import theano\n",
    "from theano import tensor as T\n",
    "import numpy as np\n",
    "\n",
    "def training_linreg(X_train, y_train, eta, epochs):\n",
    "    costs = []\n",
    "    # 配列の初期化\n",
    "    eta0 = T.fscalar('eta0') # float32型のスカラーのインスタンス\n",
    "    y = T.fvector(name='y') # float32型のベクトルのインスタンス\n",
    "    X = T.fmatrix(name='X') # float32型の行列のインスタンス\n",
    "    # 重み w を関数内で参照可能な共有変数として作成\n",
    "    w = theano.shared(np.zeros(shape=(X_train.shape[1] + 1), dtype=theano.config.floatX), name='w')\n",
    "    \n",
    "    # コストの計算\n",
    "    net_input = T.dot(X, w[1:]) + w[0] # 重みを用いて総入力を計算\n",
    "    errors = y - net_input # yと総入力の誤差\n",
    "    cost = T.sum(T.pow(errors, 2)) # 誤差との2重和\n",
    "    \n",
    "    # 重みの更新\n",
    "    gradient = T.grad(cost, wrt=w) # コストの勾配\n",
    "    update = [(w, w - eta0 * gradient)] # コストの勾配に学習率をかけて、重み w を更新\n",
    "    \n",
    "    # モデルのコンパイル\n",
    "    train = theano.function(inputs=[eta0], outputs=cost, updates=update, givens={X: X_train, y: y_train})\n",
    "    \n",
    "    for _ in range(epochs):\n",
    "        costs.append(train(eta))\n",
    "        \n",
    "    return costs, w"
   ]
  },
  {
   "cell_type": "code",
   "execution_count": 30,
   "metadata": {
    "collapsed": false
   },
   "outputs": [
    {
     "data": {
      "image/png": "[encoded data removed]",
      "text/plain": [
       "<matplotlib.figure.Figure at 0x109134dd8>"
      ]
     },
     "metadata": {},
     "output_type": "display_data"
    }
   ],
   "source": [
    "import matplotlib.pyplot as plt\n",
    "costs, w = training_linreg(X_train, y_train, eta=0.001, epochs=10)\n",
    "\n",
    "plt.plot(range(1, len(costs) + 1), costs)\n",
    "plt.xlabel('Epochs')\n",
    "plt.ylabel('Cost')\n",
    "plt.tight_layout()\n",
    "plt.show()"
   ]
  },
  {
   "cell_type": "code",
   "execution_count": null,
   "metadata": {
    "collapsed": true
   },
   "outputs": [],
   "source": []
  }
 ],
 "metadata": {
  "kernelspec": {
   "display_name": "Python 3",
   "language": "python",
   "name": "python3"
  },
  "language_info": {
   "codemirror_mode": {
    "name": "ipython",
    "version": 3
   },
   "file_extension": ".py",
   "mimetype": "text/x-python",
   "name": "python",
   "nbconvert_exporter": "python",
   "pygments_lexer": "ipython3",
   "version": "3.5.2"
  }
 },
 "nbformat": 4,
 "nbformat_minor": 1
}
